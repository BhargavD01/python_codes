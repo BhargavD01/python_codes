{
 "cells": [
  {
   "cell_type": "code",
   "execution_count": 2,
   "metadata": {},
   "outputs": [
    {
     "name": "stdout",
     "output_type": "stream",
     "text": [
      "hello world\n",
      " i have 6 mangoes\n"
     ]
    }
   ],
   "source": [
    "print(\"hello world\")\n",
    "print(\" i have 6 mangoes\")\n"
   ]
  },
  {
   "cell_type": "code",
   "execution_count": 1,
   "metadata": {},
   "outputs": [
    {
     "name": "stdout",
     "output_type": "stream",
     "text": [
      "b is greater than a\n"
     ]
    }
   ],
   "source": [
    "a,b=10,20\n",
    "print(\"Both a and b are equal\" if a==b else \"a is greater than b\" if a>b else \"b is greater than a\")\n"
   ]
  },
  {
   "cell_type": "code",
   "execution_count": 6,
   "metadata": {},
   "outputs": [
    {
     "name": "stdout",
     "output_type": "stream",
     "text": [
      "u is a vowel\n"
     ]
    }
   ],
   "source": [
    "ch2=input(\"enter a character\")\n",
    "match ch2:\n",
    "    case 'a' | 'e' | 'i' | 'o' | 'u' :\n",
    "        print(f\"{ch2} is a vowel\")\n",
    "    case _:\n",
    "        print(f\"{ch2} is not a vowel\")"
   ]
  },
  {
   "cell_type": "code",
   "execution_count": 6,
   "metadata": {},
   "outputs": [
    {
     "name": "stdout",
     "output_type": "stream",
     "text": [
      "h e l l o   w o r l d "
     ]
    }
   ],
   "source": [
    "str=\"hello world\"\n",
    "for x in str:\n",
    "        print(x, end=' ')"
   ]
  },
  {
   "cell_type": "code",
   "execution_count": 1,
   "metadata": {},
   "outputs": [
    {
     "name": "stdout",
     "output_type": "stream",
     "text": [
      "List Iteration\n",
      "11\n",
      "22.5\n",
      "AAA\n"
     ]
    }
   ],
   "source": [
    "print(\"List Iteration\")\n",
    "l = [11, \"22.5\", \"AAA\"]\n",
    "for i in l:\n",
    "        print(i)"
   ]
  },
  {
   "cell_type": "code",
   "execution_count": 2,
   "metadata": {},
   "outputs": [
    {
     "name": "stdout",
     "output_type": "stream",
     "text": [
      "\n",
      "Tuple Iteration\n",
      "11\n",
      "22.5\n",
      "AAA\n"
     ]
    }
   ],
   "source": [
    "print(\"\\nTuple Iteration\")\n",
    "t = (11, \"22.5\", \"AAA\")\n",
    "for i in t:\n",
    "    print(i)"
   ]
  },
  {
   "cell_type": "code",
   "execution_count": 3,
   "metadata": {},
   "outputs": [
    {
     "name": "stdout",
     "output_type": "stream",
     "text": [
      "\n",
      "Dictionary Iteration\n",
      "xyz 123\n",
      "abc 345\n"
     ]
    }
   ],
   "source": [
    "print(\"\\nDictionary Iteration\")\n",
    "d = dict()\n",
    "d['xyz'] = 123\n",
    "d['abc'] = 345\n",
    "for i in d:\n",
    "    print(\"%s %d\" % (i, d[i]))"
   ]
  },
  {
   "cell_type": "code",
   "execution_count": 4,
   "metadata": {},
   "outputs": [
    {
     "name": "stdout",
     "output_type": "stream",
     "text": [
      "\n",
      "Set Iteration\n",
      "1 2 3 4 5 6 "
     ]
    }
   ],
   "source": [
    "print(\"\\nSet Iteration\")\n",
    "set1 = {1, 2, 3, 4, 5, 6}\n",
    "for i in set1:\n",
    "    print(i, end=' ')"
   ]
  },
  {
   "cell_type": "code",
   "execution_count": 2,
   "metadata": {},
   "outputs": [
    {
     "name": "stdout",
     "output_type": "stream",
     "text": [
      "1\n",
      "2\n",
      "3\n",
      "4\n",
      "5\n",
      "6\n",
      "7\n",
      "8\n",
      "9\n",
      "10\n"
     ]
    }
   ],
   "source": [
    "i = 1\n",
    "while i<=10:\n",
    "    print(i)\n",
    "    i+= 1\n"
   ]
  },
  {
   "cell_type": "code",
   "execution_count": 6,
   "metadata": {},
   "outputs": [
    {
     "name": "stdout",
     "output_type": "stream",
     "text": [
      "55\n"
     ]
    }
   ],
   "source": [
    "i = 1\n",
    "sum = 0\n",
    "while i<=10:\n",
    "    sum+= i\n",
    "    i+= 1\n",
    "print(sum)"
   ]
  },
  {
   "cell_type": "code",
   "execution_count": 7,
   "metadata": {},
   "outputs": [
    {
     "name": "stdout",
     "output_type": "stream",
     "text": [
      "1\n",
      "3\n",
      "6\n",
      "10\n",
      "15\n",
      "21\n",
      "28\n",
      "36\n",
      "45\n",
      "55\n"
     ]
    }
   ],
   "source": [
    "sum = 0\n",
    "for i in range (1,11):\n",
    "    sum+= i\n",
    "    print(sum)"
   ]
  },
  {
   "cell_type": "code",
   "execution_count": 11,
   "metadata": {},
   "outputs": [
    {
     "name": "stdout",
     "output_type": "stream",
     "text": [
      "Sum is  1\n",
      "Sum is  3\n",
      "Sum is  6\n",
      "Sum is  10\n",
      "Sum is  15\n",
      "Sum is  21\n",
      "Sum is  28\n",
      "Sum is  36\n",
      "Sum is  45\n",
      "Sum is  55\n"
     ]
    }
   ],
   "source": [
    "sum = 0\n",
    "i = 1\n",
    "while i<= 10:\n",
    "    sum+= i\n",
    "    i+= 1\n",
    "    print(\"Sum is \", sum)"
   ]
  },
  {
   "cell_type": "code",
   "execution_count": 1,
   "metadata": {},
   "outputs": [
    {
     "name": "stdout",
     "output_type": "stream",
     "text": [
      "Enter Correct Name And Password Combination To continue\n",
      "Access Granted\n"
     ]
    }
   ],
   "source": [
    "print('Enter Correct Name And Password Combination To continue')\n",
    "count = 0\n",
    "while count < 3:\n",
    "    name, pwd = input(\"Enter Name And Password\").split()\n",
    "    if name==\"stud\" and pwd==\"pass\":\n",
    "        print('Access Granted')\n",
    "        break\n",
    "    else:\n",
    "        if count==2:\n",
    "            print('Sorry, Atempts Completed')\n",
    "        else:\n",
    "            print('Access Denied. Try Again')\n",
    "        count +=1"
   ]
  },
  {
   "cell_type": "code",
   "execution_count": 2,
   "metadata": {},
   "outputs": [
    {
     "name": "stdout",
     "output_type": "stream",
     "text": [
      "You guessed it! The secret number is 10\n"
     ]
    }
   ],
   "source": [
    "from random import randint\n",
    "LOW, HIGH = 1, 10\n",
    "secret_number = randint(LOW, HIGH)\n",
    "clue=\"\"\n",
    "while True:\n",
    "    guess = input(f\"Guess a number between {LOW} and {HIGH} {clue} \")\n",
    "    number = int(guess)\n",
    "    if number > secret_number:\n",
    "        clue = f\"(Number is less than {number})\"\n",
    "    elif number < secret_number:\n",
    "        clue = f\"(Number is less greater than {number})\"\n",
    "    else:\n",
    "        break\n",
    "print(f\"You guessed it! The secret number is {number}\")"
   ]
  },
  {
   "cell_type": "code",
   "execution_count": 3,
   "metadata": {},
   "outputs": [
    {
     "name": "stdout",
     "output_type": "stream",
     "text": [
      "i= 0 j= 0\n",
      "i= 0 j= 1\n",
      "i= 0 j= 2\n",
      "i= 0 j= 3\n",
      "i= 1 j= 0\n",
      "i= 1 j= 1\n",
      "i= 1 j= 2\n",
      "i= 1 j= 3\n",
      "i= 2 j= 0\n",
      "i= 2 j= 1\n",
      "i= 2 j= 2\n",
      "i= 2 j= 3\n",
      "i= 3 j= 0\n",
      "i= 3 j= 1\n",
      "i= 3 j= 2\n",
      "i= 3 j= 3\n"
     ]
    }
   ],
   "source": [
    "for i in range(4):\n",
    "    for j in range(4):\n",
    "        print(\"i=\",i,\"j=\",j)"
   ]
  },
  {
   "cell_type": "code",
   "execution_count": 4,
   "metadata": {},
   "outputs": [
    {
     "name": "stdout",
     "output_type": "stream",
     "text": [
      "* \n",
      "* * \n",
      "* * * \n",
      "* * * * \n",
      "* * * * * \n",
      "* * * * * * \n",
      "* * * * * * * \n"
     ]
    }
   ],
   "source": [
    "'''\n",
    "*\n",
    "**\n",
    "***\n",
    "'''\n",
    "rows = int(input(\"Enter number of rows\"))\n",
    "for i in range (1,rows+1):\n",
    "    for j in range(1,i+1):\n",
    "        print(\"*\",end=\" \")\n",
    "    print()"
   ]
  },
  {
   "cell_type": "code",
   "execution_count": 5,
   "metadata": {},
   "outputs": [
    {
     "name": "stdout",
     "output_type": "stream",
     "text": [
      "*\n",
      "**\n",
      "***\n",
      "****\n",
      "*****\n",
      "******\n"
     ]
    }
   ],
   "source": [
    "'''\n",
    "*\n",
    "**\n",
    "***\n",
    "'''\n",
    "rows = int(input(\"Enter number of rows\"))\n",
    "for i in range(1, rows + 1):\n",
    "    print('*'*i)"
   ]
  },
  {
   "cell_type": "code",
   "execution_count": 8,
   "metadata": {},
   "outputs": [
    {
     "name": "stdout",
     "output_type": "stream",
     "text": [
      "   *\n",
      "  ***\n",
      " *****\n",
      "*******\n"
     ]
    }
   ],
   "source": [
    "rows = int(input(\"Enter number of rows\"))\n",
    "for i in range( rows):\n",
    "    for j in range(rows-i-1):\n",
    "        print(\" \", end=\"\")\n",
    "    for j in range(2*i+1):\n",
    "        print(\"*\", end=\"\")\n",
    "    print()"
   ]
  },
  {
   "cell_type": "code",
   "execution_count": 9,
   "metadata": {},
   "outputs": [
    {
     "name": "stdout",
     "output_type": "stream",
     "text": [
      "0 1 2 3 4 5 "
     ]
    }
   ],
   "source": [
    "for x in range(10):\n",
    "    if x>5:\n",
    "        break\n",
    "    print(x, end=' ')"
   ]
  },
  {
   "cell_type": "code",
   "execution_count": 10,
   "metadata": {},
   "outputs": [
    {
     "name": "stdout",
     "output_type": "stream",
     "text": [
      "115\n"
     ]
    }
   ],
   "source": [
    "sum=0\n",
    "for i in range(21): #0 to 20\n",
    "    if i in range(5,15): #5 to 14\n",
    "        continue\n",
    "    sum+=i # 0+1+2+3+4+15+16+....+20\n",
    "print(sum)"
   ]
  },
  {
   "cell_type": "code",
   "execution_count": 12,
   "metadata": {},
   "outputs": [
    {
     "name": "stdout",
     "output_type": "stream",
     "text": [
      "0 1 2 3 4 6 7 8 9 "
     ]
    }
   ],
   "source": [
    "for x in range(10):\n",
    "    if x==5:\n",
    "        continue\n",
    "    print(x, end=' ')"
   ]
  },
  {
   "cell_type": "code",
   "execution_count": 4,
   "metadata": {},
   "outputs": [
    {
     "name": "stdout",
     "output_type": "stream",
     "text": [
      "Number is a negative number\n"
     ]
    }
   ],
   "source": [
    "x = int(input(\"Enter a number\"))\n",
    "if x>=0:\n",
    "    pass\n",
    "else:\n",
    "    print(\"Number is a negative number\")"
   ]
  },
  {
   "cell_type": "code",
   "execution_count": 7,
   "metadata": {},
   "outputs": [
    {
     "name": "stdout",
     "output_type": "stream",
     "text": [
      "0 1 2 3 4 5 "
     ]
    }
   ],
   "source": [
    "for x in range(10):\n",
    "    if(x>5):\n",
    "        break\n",
    "    print(x, end=' ')\n",
    "else:\n",
    "    print(\"Finally finished!\")"
   ]
  },
  {
   "cell_type": "code",
   "execution_count": 13,
   "metadata": {},
   "outputs": [
    {
     "name": "stdout",
     "output_type": "stream",
     "text": [
      "Element not found\n"
     ]
    }
   ],
   "source": [
    "ls=[10,20,30,40,50,60,70]\n",
    "search_ele=int(input(\"Enter a number\"))\n",
    "for ele in ls:\n",
    "    if search_ele==ele:\n",
    "        print(\"Element found\")\n",
    "        break\n",
    "else:\n",
    "    print(\"Element not found\")"
   ]
  },
  {
   "cell_type": "code",
   "execution_count": 14,
   "metadata": {},
   "outputs": [
    {
     "name": "stdout",
     "output_type": "stream",
     "text": [
      "Element found\n"
     ]
    }
   ],
   "source": [
    "ls=[10,20,30,40,50,60,70]\n",
    "search_ele=int(input(\"Enter a number\"))\n",
    "for ele in ls:\n",
    "    if search_ele==ele:\n",
    "        print(\"Element found\")\n",
    "        break\n",
    "else:\n",
    "    print(\"Element not found\")"
   ]
  },
  {
   "cell_type": "code",
   "execution_count": 16,
   "metadata": {},
   "outputs": [
    {
     "name": "stdout",
     "output_type": "stream",
     "text": [
      "0 1 2 3 4 5 "
     ]
    }
   ],
   "source": [
    "for x in range(10):\n",
    "    if(x>5):\n",
    "        break\n",
    "    print(x, end=\" \")\n",
    "else:\n",
    "    print(\"Finally finished\")"
   ]
  },
  {
   "cell_type": "code",
   "execution_count": 18,
   "metadata": {},
   "outputs": [
    {
     "name": "stdout",
     "output_type": "stream",
     "text": [
      "0 1 2 3 4 5 6 7 8 9 Finally finished!\n"
     ]
    }
   ],
   "source": [
    "for x in range(10):\n",
    "    print(x, end=\" \")\n",
    "else:\n",
    "    print(\"Finally finished!\")"
   ]
  },
  {
   "cell_type": "code",
   "execution_count": 19,
   "metadata": {},
   "outputs": [
    {
     "name": "stdout",
     "output_type": "stream",
     "text": [
      "Element not found\n"
     ]
    }
   ],
   "source": [
    "ls=[10,20,30,40,50]\n",
    "search_ele=int(input(\"Enter a number\"))\n",
    "i=0\n",
    "while i<len(ls):\n",
    "    if search_ele==ls[i]:\n",
    "        print(\"Element found\")\n",
    "        break\n",
    "    i+=1\n",
    "else:\n",
    "    print(\"Element not found\")"
   ]
  },
  {
   "cell_type": "code",
   "execution_count": 20,
   "metadata": {},
   "outputs": [],
   "source": [
    "#ARRAY"
   ]
  },
  {
   "cell_type": "code",
   "execution_count": 3,
   "metadata": {},
   "outputs": [
    {
     "name": "stdout",
     "output_type": "stream",
     "text": [
      "The new created array is :  1 2 3 "
     ]
    }
   ],
   "source": [
    "#create an array\n",
    "import array as arr\n",
    "a = arr.array('i', [1, 2, 3])\n",
    "print(\"The new created array is : \", end=\" \")\n",
    "for i in range(0, 3):\n",
    "    print(a[i], end=\" \")"
   ]
  },
  {
   "cell_type": "code",
   "execution_count": 4,
   "metadata": {},
   "outputs": [
    {
     "name": "stdout",
     "output_type": "stream",
     "text": [
      "\n",
      "The new created array is :  2.5 3.2 3.3 "
     ]
    }
   ],
   "source": [
    "#creating another array\n",
    "b = arr.array('d', [2.5, 3.2, 3.3])\n",
    "print(\"\\nThe new created array is : \", end=\" \")\n",
    "for i in range(0, 3):\n",
    "    print(b[i], end=\" \")\n"
   ]
  },
  {
   "cell_type": "code",
   "execution_count": 6,
   "metadata": {},
   "outputs": [
    {
     "name": "stdout",
     "output_type": "stream",
     "text": [
      "Array before insertion :  1 2 3 \n",
      "Array after insertion :  1 4 2 3 "
     ]
    }
   ],
   "source": [
    "#inserting elements to an array\n",
    "import array as arr\n",
    "a = arr.array('i', [1, 2, 3])\n",
    "print(\"Array before insertion : \", end=\" \")\n",
    "for i in range(0, 3):\n",
    "    print(a[i], end=\" \")\n",
    "print()\n",
    "\n",
    "a.insert(1, 4)\n",
    "\n",
    "print(\"Array after insertion : \", end=\" \")\n",
    "for i in (a): \n",
    "    print(i, end=\" \")"
   ]
  },
  {
   "cell_type": "code",
   "execution_count": 8,
   "metadata": {},
   "outputs": [
    {
     "name": "stdout",
     "output_type": "stream",
     "text": [
      "Array before insertion :  2.5 3.2 3.3 \n",
      "Array after insertion :  2.5 3.2 3.3 4.4 "
     ]
    }
   ],
   "source": [
    "#inserting elements in array\n",
    "import array as arr\n",
    "b = arr.array('d', [2.5, 3.2, 3.3])\n",
    "print(\"Array before insertion : \", end=\" \")\n",
    "for i in range(0, 3):\n",
    "    print(b[i], end=\" \")\n",
    "print()\n",
    "b.append(4.4)\n",
    "print(\"Array after insertion : \", end=\" \")\n",
    "for i in (b):\n",
    "    print(i, end=\" \")"
   ]
  },
  {
   "cell_type": "code",
   "execution_count": 9,
   "metadata": {},
   "outputs": [
    {
     "name": "stdout",
     "output_type": "stream",
     "text": [
      "1\n",
      "4\n",
      "3.2\n",
      "3.3\n"
     ]
    }
   ],
   "source": [
    "#accessing elements from an array\n",
    "import array as arr\n",
    "a = arr.array('i', [1, 2, 3, 4, 5, 6])\n",
    "print( a[0])\n",
    "print( a[3])\n",
    "b = arr.array('d', [2.5, 3.2, 3.3])\n",
    "print( b[1])\n",
    "print( b[2])"
   ]
  },
  {
   "cell_type": "code",
   "execution_count": 15,
   "metadata": {},
   "outputs": [
    {
     "name": "stdout",
     "output_type": "stream",
     "text": [
      "The popped element is : 3\n",
      "The popped element is : 5\n",
      "The array after popping is : 1 2 1 \n"
     ]
    }
   ],
   "source": [
    "#removing elements from array\n",
    "import array\n",
    "arr = array.array('i', [1, 2, 3, 1, 5])\n",
    "\n",
    "print(f\"The popped element is : {arr.pop(2)}\" )\n",
    "print(f\"The popped element is : {arr.pop()}\" )\n",
    "\n",
    "print(\"The array after popping is : \", end=\"\")\n",
    "for i in range(len(arr)):\n",
    "    print(arr[i], end=\" \")\n",
    "print()"
   ]
  },
  {
   "cell_type": "code",
   "execution_count": 16,
   "metadata": {},
   "outputs": [
    {
     "name": "stdout",
     "output_type": "stream",
     "text": [
      "array('i', [0, 1, 2, 3, 4, 5, 6, 7, 8, 9])\n",
      "array('i', [3, 4, 5, 6, 7])\n",
      "array('i', [5, 6, 7, 8, 9])\n",
      "array('i', [0, 1, 2, 3, 4, 5, 6, 7, 8, 9])\n"
     ]
    }
   ],
   "source": [
    "import array as arr\n",
    "l = [0, 1, 2, 3, 4, 5, 6, 7, 8, 9]\n",
    "a = arr.array('i', l)\n",
    "print(a)\n",
    "Sliced_array = a[3:8]\n",
    "print(Sliced_array)\n",
    "print(a[5:])\n",
    "print(a[:])"
   ]
  },
  {
   "cell_type": "code",
   "execution_count": 17,
   "metadata": {},
   "outputs": [
    {
     "name": "stdout",
     "output_type": "stream",
     "text": [
      "The index of 1st occurence of 2 is : 1\n",
      "The index of 1st ccurence of 1 is : 0\n"
     ]
    }
   ],
   "source": [
    "import array\n",
    "arr = array.array('i', [1, 2, 3, 1, 2, 5])\n",
    "\n",
    "print(f\"The index of 1st occurence of 2 is : {arr.index(2)}\")\n",
    "print(\"The index of 1st ccurence of 1 is : \", end=\"\")\n",
    "print(arr.index(1))"
   ]
  },
  {
   "cell_type": "code",
   "execution_count": 19,
   "metadata": {},
   "outputs": [
    {
     "name": "stdout",
     "output_type": "stream",
     "text": [
      "Array before updation : 1 2 3 1 2 5 \n",
      "Array after updation : 1 2 6 1 2 5 \n",
      "Array after updation : 1 2 6 1 8 5 "
     ]
    }
   ],
   "source": [
    "#updating elememts in an array by assigning arr[i] value\n",
    "import array\n",
    "arr = array.array('i', [1, 2, 3, 1, 2, 5])\n",
    "\n",
    "print(\"Array before updation : \", end=\"\")\n",
    "for i in range(len(arr)):\n",
    "    print(arr[i], end=\" \")\n",
    "print()\n",
    "\n",
    "arr[2] = 6\n",
    "\n",
    "print(\"Array after updation : \", end=\"\")\n",
    "for i in range(len(arr)):\n",
    "    print(arr[i], end=\" \")\n",
    "print()\n",
    "\n",
    "arr[4] = 8\n",
    "print(\"Array after updation : \", end=\"\")\n",
    "for i in range (len(arr)):\n",
    "    print(arr[i], end=\" \")"
   ]
  },
  {
   "cell_type": "code",
   "execution_count": 20,
   "metadata": {},
   "outputs": [
    {
     "name": "stdout",
     "output_type": "stream",
     "text": [
      "Number of occurences of 2: 3\n"
     ]
    }
   ],
   "source": [
    "#counting elements in an array\n",
    "import array\n",
    "my_array = array.array('i', [1, 2, 3, 4, 2, 5, 2])\n",
    "count = my_array.count(2)\n",
    "print(\"Number of occurences of 2:\", count)\n"
   ]
  },
  {
   "cell_type": "code",
   "execution_count": 21,
   "metadata": {},
   "outputs": [
    {
     "name": "stdout",
     "output_type": "stream",
     "text": [
      "array('i', [1, 2, 3, 4, 5])\n",
      "array('i', [5, 4, 3, 2, 1])\n"
     ]
    }
   ],
   "source": [
    "#reversing elements\n",
    "import array\n",
    "my_array = array.array('i', [1, 2, 3, 4, 5])\n",
    "print(my_array)\n",
    "my_array.reverse()\n",
    "print(my_array)"
   ]
  },
  {
   "cell_type": "code",
   "execution_count": 22,
   "metadata": {},
   "outputs": [
    {
     "name": "stdout",
     "output_type": "stream",
     "text": [
      "The before array extend :  1 2 3 4 5 \n",
      "\n",
      "The array after extend : 1 2 3 4 5 6 7 8 9 10 \n"
     ]
    }
   ],
   "source": [
    "#extend element from array\n",
    "import array as arr\n",
    "a = arr.array('i', [1, 2, 3, 4, 5])\n",
    "print(\"The before array extend : \", end=\" \")\n",
    "for i in range (0, 5):\n",
    "    print(a[i], end=\" \")\n",
    "print()\n",
    "\n",
    "a.extend([6, 7, 8, 9, 10])\n",
    "print(\"\\nThe array after extend :\", end=\" \")\n",
    "\n",
    "for i in range(0, 10):\n",
    "    print(a[i], end=\" \")\n",
    "print()"
   ]
  },
  {
   "cell_type": "code",
   "execution_count": 23,
   "metadata": {},
   "outputs": [
    {
     "name": "stdout",
     "output_type": "stream",
     "text": [
      "Forward direction: \n",
      "P y t h o n   i s   v e r y   e a s y \n",
      "Forward direction: \n",
      "P y t h o n   i s   v e r y   e a s y \n",
      "Backward direction: \n",
      "y s a e   y r e v   s i   n o h t y P "
     ]
    }
   ],
   "source": [
    "#accessing each element of string in forward direction and backward direction\n",
    "s = \"Python is very easy\"\n",
    "print(\"Forward direction: \")\n",
    "for i in s:\n",
    "    print(i, end=' ')\n",
    "print(\"\\nForward direction: \")\n",
    "for i in s[::]:\n",
    "    print(i, end=' ')\n",
    "\n",
    "print(\"\\nBackward direction: \")\n",
    "for i in s[::-1]:\n",
    "    print(i, end=' ')"
   ]
  },
  {
   "cell_type": "code",
   "execution_count": 25,
   "metadata": {},
   "outputs": [
    {
     "name": "stdout",
     "output_type": "stream",
     "text": [
      "very' is present in 'Python is very easy \n"
     ]
    }
   ],
   "source": [
    "#checking membership\n",
    "s=\"Python is very easy\"\n",
    "if \"very\" in s:\n",
    "    print(f\"very' is present in '{s} \")"
   ]
  },
  {
   "cell_type": "code",
   "execution_count": 27,
   "metadata": {},
   "outputs": [
    {
     "name": "stdout",
     "output_type": "stream",
     "text": [
      "LEARNING PYTHON IS VERY EASY\n",
      "learning python is very easy\n",
      "LEARNING pYTHON IS VERY eASY\n",
      "Learning Python Is Very Easy\n",
      "Learning python is very easy\n"
     ]
    }
   ],
   "source": [
    "#changing case of a string\n",
    "s='learning Python is very Easy'\n",
    "print(s.upper())\n",
    "print(s.lower())\n",
    "print(s.swapcase())\n",
    "print(s.title())\n",
    "print(s.capitalize())"
   ]
  },
  {
   "cell_type": "code",
   "execution_count": 28,
   "metadata": {},
   "outputs": [
    {
     "name": "stdout",
     "output_type": "stream",
     "text": [
      "True\n",
      "False\n",
      "True\n"
     ]
    }
   ],
   "source": [
    "#checking starting and ending of the string\n",
    "s='learning Python is very easy'\n",
    "print(s.startswith('learning'))\n",
    "print(s.endswith('learning'))\n",
    "print(s.endswith('easy'))\n"
   ]
  },
  {
   "cell_type": "code",
   "execution_count": 37,
   "metadata": {},
   "outputs": [
    {
     "name": "stdout",
     "output_type": "stream",
     "text": [
      "False\n",
      "False\n",
      "False\n",
      "False\n",
      "False\n",
      "False\n"
     ]
    }
   ],
   "source": [
    "s='learning Python is very easy'\n",
    "print(s.isalnum())\n",
    "print(s.isalpha())\n",
    "print(s.isdigit())\n",
    "print(s.istitle())\n",
    "print(s.isspace())\n",
    "print(s.islower())"
   ]
  },
  {
   "cell_type": "code",
   "execution_count": 21,
   "metadata": {},
   "outputs": [
    {
     "name": "stdout",
     "output_type": "stream",
     "text": [
      "Number of occurences of 2: 3\n"
     ]
    }
   ],
   "source": [
    "#counting elements in an array\n",
    "import array\n",
    "my_array = array.array('i', [1, 2, 3, 4, 2, 5, 2])\n",
    "count = my_array.count(2)\n",
    "print(\"Number of occurences of 2:\", count)\n"
   ]
  },
  {
   "cell_type": "code",
   "execution_count": 39,
   "metadata": {},
   "outputs": [
    {
     "name": "stdout",
     "output_type": "stream",
     "text": [
      "2\n",
      "-1\n",
      "10\n",
      "2\n",
      "10\n"
     ]
    },
    {
     "ename": "ValueError",
     "evalue": "substring not found",
     "output_type": "error",
     "traceback": [
      "\u001b[0;31m---------------------------------------------------------------------------\u001b[0m",
      "\u001b[0;31mValueError\u001b[0m                                Traceback (most recent call last)",
      "Cell \u001b[0;32mIn[39], line 10\u001b[0m\n\u001b[1;32m      8\u001b[0m \u001b[38;5;28mprint\u001b[39m(s\u001b[38;5;241m.\u001b[39mindex(\u001b[38;5;124m\"\u001b[39m\u001b[38;5;124mth\u001b[39m\u001b[38;5;124m\"\u001b[39m)) \u001b[38;5;66;03m#2\u001b[39;00m\n\u001b[1;32m      9\u001b[0m \u001b[38;5;28mprint\u001b[39m(s\u001b[38;5;241m.\u001b[39mindex(\u001b[38;5;124m\"\u001b[39m\u001b[38;5;124mth\u001b[39m\u001b[38;5;124m\"\u001b[39m,\u001b[38;5;241m7\u001b[39m,\u001b[38;5;241m15\u001b[39m)) \u001b[38;5;66;03m#10\u001b[39;00m\n\u001b[0;32m---> 10\u001b[0m \u001b[38;5;28mprint\u001b[39m(\u001b[43ms\u001b[49m\u001b[38;5;241;43m.\u001b[39;49m\u001b[43mindex\u001b[49m\u001b[43m(\u001b[49m\u001b[38;5;124;43m\"\u001b[39;49m\u001b[38;5;124;43mJava\u001b[39;49m\u001b[38;5;124;43m\"\u001b[39;49m\u001b[43m)\u001b[49m) \u001b[38;5;66;03m#ValueError\u001b[39;00m\n",
      "\u001b[0;31mValueError\u001b[0m: substring not found"
     ]
    }
   ],
   "source": [
    "#returns index of first occurence of given substring\n",
    "s=\"Python is the easiest\"\n",
    "print(s.find(\"th\")) #2\n",
    "print(s.find(\"Java\")) #-1\n",
    "# s.find(substring,begin,end)\n",
    "print(s.find('th',7,15)) # 10\n",
    "# index() is same as find() method except that if the specified substring is not available\n",
    "print(s.index(\"th\")) #2\n",
    "print(s.index(\"th\",7,15)) #10\n",
    "print(s.index(\"Java\")) #ValueError"
   ]
  },
  {
   "cell_type": "code",
   "execution_count": 40,
   "metadata": {},
   "outputs": [
    {
     "name": "stdout",
     "output_type": "stream",
     "text": [
      "7\n",
      "7\n",
      "-1\n"
     ]
    },
    {
     "ename": "ValueError",
     "evalue": "substring not found",
     "output_type": "error",
     "traceback": [
      "\u001b[0;31m---------------------------------------------------------------------------\u001b[0m",
      "\u001b[0;31mValueError\u001b[0m                                Traceback (most recent call last)",
      "Cell \u001b[0;32mIn[40], line 5\u001b[0m\n\u001b[1;32m      3\u001b[0m \u001b[38;5;28mprint\u001b[39m(s\u001b[38;5;241m.\u001b[39mrfind(\u001b[38;5;124m\"\u001b[39m\u001b[38;5;124mis\u001b[39m\u001b[38;5;124m\"\u001b[39m)) \u001b[38;5;66;03m#\u001b[39;00m\n\u001b[1;32m      4\u001b[0m \u001b[38;5;28mprint\u001b[39m(s\u001b[38;5;241m.\u001b[39mrfind(\u001b[38;5;124m\"\u001b[39m\u001b[38;5;124mz\u001b[39m\u001b[38;5;124m\"\u001b[39m)) \u001b[38;5;66;03m#\u001b[39;00m\n\u001b[0;32m----> 5\u001b[0m \u001b[38;5;28mprint\u001b[39m(\u001b[43ms\u001b[49m\u001b[38;5;241;43m.\u001b[39;49m\u001b[43mrindex\u001b[49m\u001b[43m(\u001b[49m\u001b[38;5;124;43m\"\u001b[39;49m\u001b[38;5;124;43mz\u001b[39;49m\u001b[38;5;124;43m\"\u001b[39;49m\u001b[43m)\u001b[49m) \u001b[38;5;66;03m#\u001b[39;00m\n",
      "\u001b[0;31mValueError\u001b[0m: substring not found"
     ]
    }
   ],
   "source": [
    "s=\"is are is\"\n",
    "print(s.rindex(\"is\")) #\n",
    "print(s.rfind(\"is\")) #\n",
    "print(s.rfind(\"z\")) #\n",
    "print(s.rindex(\"z\")) #"
   ]
  },
  {
   "cell_type": "code",
   "execution_count": 41,
   "metadata": {},
   "outputs": [
    {
     "name": "stdout",
     "output_type": "stream",
     "text": [
      "0\n",
      "0\n",
      "0\n",
      "2\n",
      "2\n",
      "1\n"
     ]
    }
   ],
   "source": [
    "# number of occurences of substring present in the given string\n",
    "s=\"Joy of giving and sharing\"\n",
    "print(s.count('z'))\n",
    "print(s.count('ab'))\n",
    "print(s.count('a',3,7))\n",
    "print(s.count('o'))\n",
    "print(s.count('ing'))\n",
    "print(s.count('and',10,17))"
   ]
  },
  {
   "cell_type": "code",
   "execution_count": 42,
   "metadata": {},
   "outputs": [
    {
     "name": "stdout",
     "output_type": "stream",
     "text": [
      "Learning Python is very easy\n"
     ]
    }
   ],
   "source": [
    "#s.replace(oldstring,newstring)\n",
    "# inside s, every occurence of oldstring will be replaced with newstring.\n",
    "s=\"Learning Python is very difficult\"\n",
    "s1=s.replace(\"difficult\",\"easy\")\n",
    "print(s1)"
   ]
  },
  {
   "cell_type": "code",
   "execution_count": 43,
   "metadata": {},
   "outputs": [
    {
     "name": "stdout",
     "output_type": "stream",
     "text": [
      "abab is available at : 4420578848\n",
      "bbbb is available at : 4421388208\n"
     ]
    }
   ],
   "source": [
    "s=\"abab\"\n",
    "s1=s.replace(\"a\",\"b\")\n",
    "print(s,\"is available at :\",id(s))\n",
    "print(s1,\"is available at :\",id(s1))"
   ]
  },
  {
   "cell_type": "code",
   "execution_count": 2,
   "metadata": {},
   "outputs": [],
   "source": [
    "#example of function\n",
    "#def is mandatory\n",
    "#return is optional\n",
    "def even_odd(num):\n",
    "    if num%2==0:\n",
    "        print(num,\"is Even number\")\n",
    "    else:\n",
    "        print(num,\"is Odd number\")"
   ]
  },
  {
   "cell_type": "code",
   "execution_count": 3,
   "metadata": {},
   "outputs": [
    {
     "name": "stdout",
     "output_type": "stream",
     "text": [
      "hi\n",
      "hello\n"
     ]
    }
   ],
   "source": [
    "def f1():\n",
    "    global a\n",
    "    print(a)\n",
    "    a=\"hello\"\n",
    "\n",
    "def f2():\n",
    "    print(a)\n",
    "a=\"hi\"\n",
    "f1()\n",
    "f2()"
   ]
  },
  {
   "cell_type": "code",
   "execution_count": 5,
   "metadata": {},
   "outputs": [
    {
     "name": "stdout",
     "output_type": "stream",
     "text": [
      "545\n",
      "545\n"
     ]
    }
   ],
   "source": [
    "#global keyword\n",
    "def f1():\n",
    "    global a\n",
    "    a=545\n",
    "    print(a)\n",
    "\n",
    "def f2():\n",
    "    print(a)\n",
    "\n",
    "f1()\n",
    "f2()"
   ]
  },
  {
   "cell_type": "code",
   "execution_count": 1,
   "metadata": {},
   "outputs": [
    {
     "name": "stdout",
     "output_type": "stream",
     "text": [
      "None\n",
      "False\n",
      "None\n"
     ]
    }
   ],
   "source": [
    "# checking whether a number is prime or not\n",
    "def test_prime(n):\n",
    "    if (n==1):\n",
    "        #if'n' is 1, return False (1 is not a prime number)\n",
    "        return False\n",
    "    elif (n==2):\n",
    "        #if 'n' is 2, return True (2 is a prime number)\n",
    "        return True\n",
    "    else:\n",
    "        #iterate from numbers from 2 to (n//2) using 'x' as the iterator\n",
    "        for x in range(2, n//2):\n",
    "            # check if 'n' is divisible by 'x' without any remainder\n",
    "            if(n % x == 0):\n",
    "                return False\n",
    "print(test_prime(13))\n",
    "print(test_prime(15))\n",
    "print(test_prime(23))\n",
    "    "
   ]
  },
  {
   "cell_type": "code",
   "execution_count": 5,
   "metadata": {},
   "outputs": [
    {
     "ename": "NameError",
     "evalue": "name 'greet_and_capitalize' is not defined",
     "output_type": "error",
     "traceback": [
      "\u001b[0;31m---------------------------------------------------------------------------\u001b[0m",
      "\u001b[0;31mNameError\u001b[0m                                 Traceback (most recent call last)",
      "Cell \u001b[0;32mIn[5], line 14\u001b[0m\n\u001b[1;32m     10\u001b[0m     \u001b[38;5;28;01mreturn\u001b[39;00m greet(n)\n\u001b[1;32m     13\u001b[0m \u001b[38;5;66;03m#Test the function\u001b[39;00m\n\u001b[0;32m---> 14\u001b[0m result \u001b[38;5;241m=\u001b[39m \u001b[43mgreet_and_capitalize\u001b[49m(\u001b[38;5;124m\"\u001b[39m\u001b[38;5;124mAlice\u001b[39m\u001b[38;5;124m\"\u001b[39m)\n\u001b[1;32m     15\u001b[0m \u001b[38;5;28mprint\u001b[39m(\u001b[38;5;124m\"\u001b[39m\u001b[38;5;124mFinal Result:\u001b[39m\u001b[38;5;124m\"\u001b[39m, result)\n",
      "\u001b[0;31mNameError\u001b[0m: name 'greet_and_capitalize' is not defined"
     ]
    }
   ],
   "source": [
    "#calling a function within a function\n",
    "def capitalize(text):\n",
    "    return text.upper()\n",
    "\n",
    "def greet(name):\n",
    "    return f\"Hello, {name}!\"\n",
    "\n",
    "def greet_and_capitalise(name):\n",
    "    n=capitalize(name)\n",
    "    return greet(n)\n",
    "\n",
    "\n",
    "#Test the function\n",
    "result = greet_and_capitalize(\"Alice\")\n",
    "print(\"Final Result:\", result)"
   ]
  },
  {
   "cell_type": "code",
   "execution_count": 6,
   "metadata": {},
   "outputs": [
    {
     "name": "stdout",
     "output_type": "stream",
     "text": [
      "10\n",
      "10\n"
     ]
    }
   ],
   "source": [
    "#example of global variable\n",
    "a=10 # global variable\n",
    "def f1():\n",
    "    print(a)\n",
    "def f2():\n",
    "    print(a)\n",
    "f1()\n",
    "f2()"
   ]
  },
  {
   "cell_type": "code",
   "execution_count": 7,
   "metadata": {},
   "outputs": [
    {
     "name": "stdout",
     "output_type": "stream",
     "text": [
      "Hi\n",
      "Hi\n"
     ]
    }
   ],
   "source": [
    "#example of global and local variable\n",
    "def f1():\n",
    "    print(a)\n",
    "def f2():\n",
    "    print(a)\n",
    "a=\"Hi\"\n",
    "f1()\n",
    "f2()"
   ]
  },
  {
   "cell_type": "code",
   "execution_count": 9,
   "metadata": {},
   "outputs": [
    {
     "name": "stdout",
     "output_type": "stream",
     "text": [
      "20\n",
      "10\n"
     ]
    }
   ],
   "source": [
    "#example of global variable\n",
    "a=10 #global variable\n",
    "def f11():\n",
    "    a=20 #locql variablea\n",
    "    print(a)\n",
    "def f22():\n",
    "    print(a)\n",
    "#a=10 You can define global variable here also\n",
    "f11()\n",
    "f22()"
   ]
  },
  {
   "cell_type": "code",
   "execution_count": 10,
   "metadata": {},
   "outputs": [
    {
     "name": "stdout",
     "output_type": "stream",
     "text": [
      "Hi\n",
      "Hello\n"
     ]
    }
   ],
   "source": [
    "#example of global and local variable\n",
    "def f1():\n",
    "    global a\n",
    "    print(a)\n",
    "    a=\"Hello\"\n",
    "\n",
    "def f2():\n",
    "    print(a)\n",
    "a=\"Hi\"\n",
    "f1()\n",
    "f2()"
   ]
  },
  {
   "cell_type": "code",
   "execution_count": 11,
   "metadata": {},
   "outputs": [
    {
     "ename": "SyntaxError",
     "evalue": "invalid syntax (1015923440.py, line 6)",
     "output_type": "error",
     "traceback": [
      "\u001b[0;36m  Cell \u001b[0;32mIn[11], line 6\u001b[0;36m\u001b[0m\n\u001b[0;31m    1st=[10,20,30]\u001b[0m\n\u001b[0m     ^\u001b[0m\n\u001b[0;31mSyntaxError\u001b[0m\u001b[0;31m:\u001b[0m invalid syntax\n"
     ]
    }
   ],
   "source": [
    "#argument passing:xample of call by value and call by reference\n",
    "def change(a,b):\n",
    "    a=\"Smith\"\n",
    "    b[0]=25\n",
    "name=\"Tom\"\n",
    "1st=[10,20,30]\n",
    "print(\"values of name and 1st before calling fuction\", name,1st)\n",
    "change(name,1st)\n",
    "print(\"values of name and 1st after calling function\", name,1st)"
   ]
  },
  {
   "cell_type": "code",
   "execution_count": 16,
   "metadata": {},
   "outputs": [
    {
     "name": "stdout",
     "output_type": "stream",
     "text": [
      "Factorial of number 5 = 120\n"
     ]
    }
   ],
   "source": [
    "#program to build factoriall of number using recursive function:\n",
    "def recursive_factorial(n):\n",
    "    if n==1:\n",
    "        return n\n",
    "    else:\n",
    "        return n * recursive_factorial(n-1)\n",
    "    \n",
    "num=int(input(\"Enter a positive number\"))\n",
    "#check if input is valid or not\n",
    "if num < 0:\n",
    "    print(\"Invalid input ! please enter a positive number.\")\n",
    "elif num == 0:\n",
    "    print(\"Factorial of number 0 is 1\")\n",
    "else:\n",
    "    print(\"Factorial of number\", num, \"=\", recursive_factorial(num))"
   ]
  },
  {
   "cell_type": "code",
   "execution_count": 18,
   "metadata": {},
   "outputs": [
    {
     "name": "stdout",
     "output_type": "stream",
     "text": [
      "0 1 1 2 3 5 8 "
     ]
    }
   ],
   "source": [
    "#program to print fibonacci series upto n terms using recursive function\n",
    "def recursive_fibonacci(n):\n",
    "    if n<=1:\n",
    "        return n\n",
    "    else:\n",
    "        return(recursive_fibonacci(n-1) + recursive_fibonacci(n-2))\n",
    "\n",
    "n_terms = int(input(\"Enter the number of terms in Fibonacci series\"))\n",
    "\n",
    "#checkif the number of the terms is valid\n",
    "if n_terms <= 0:\n",
    "    print(\"nvalid input! please input a positive value\")\n",
    "for i in range(n_terms):\n",
    "    print(recursive_fibonacci(i), end=' ')"
   ]
  },
  {
   "cell_type": "code",
   "execution_count": 1,
   "metadata": {},
   "outputs": [
    {
     "name": "stdout",
     "output_type": "stream",
     "text": [
      "15\n",
      "200\n",
      "100\n"
     ]
    }
   ],
   "source": [
    "import ModuleEx1\n",
    "print(ModuleEx1.add(5,10))\n",
    "print(ModuleEx1.prod(10,20))\n",
    "print(ModuleEx1.x)"
   ]
  },
  {
   "cell_type": "code",
   "execution_count": 5,
   "metadata": {},
   "outputs": [
    {
     "name": "stdout",
     "output_type": "stream",
     "text": [
      "0.0\n",
      "2.0\n",
      "-1.0\n",
      "15.0\n",
      "1000.0\n",
      "10.0\n",
      "10.0\n",
      "16.0\n"
     ]
    }
   ],
   "source": [
    "import math\n",
    "#returns the remainder of x divided by y\n",
    "print(math.fmod(20, 4)) #0.0\n",
    "print(math.fmod(20, 3)) #2.0\n",
    "print(math.fmod(-10, 3)) #-1.0\n",
    "#print(math.fmod(0, 0)) #ValueError: math domain error\n",
    "\n",
    "#print the sum of all items in an iterable\n",
    "print(math.fsum([1, 2, 3, 4, 5])) #list\n",
    "print(math.fsum((100, 400, 500))) #tuple\n",
    "print(math.fsum(range(0, 5))) #range\n",
    "print(math.fsum({1:\"one\",2:\"two\",3:3,4:4})) ##dict\n",
    "print(math.fsum({7,2,3,4})) #set"
   ]
  },
  {
   "cell_type": "code",
   "execution_count": 9,
   "metadata": {},
   "outputs": [
    {
     "name": "stdout",
     "output_type": "stream",
     "text": [
      "4\n",
      "3\n",
      "5\n",
      "7\n",
      "10\n"
     ]
    }
   ],
   "source": [
    "import random\n",
    "for i in range(5):\n",
    "    print(random.randint(1, 10))"
   ]
  },
  {
   "cell_type": "code",
   "execution_count": 10,
   "metadata": {},
   "outputs": [
    {
     "name": "stdout",
     "output_type": "stream",
     "text": [
      "5\n",
      "10\n",
      "4\n",
      "6\n",
      "4\n"
     ]
    }
   ],
   "source": [
    "from random import randint\n",
    "for i in range(5):\n",
    "    print(random.randint(1, 10))"
   ]
  },
  {
   "cell_type": "code",
   "execution_count": 11,
   "metadata": {},
   "outputs": [
    {
     "name": "stdout",
     "output_type": "stream",
     "text": [
      "0.3337930689056189\n",
      "0.9725639083206176\n",
      "0.21363045733511743\n",
      "0.3251518191536744\n",
      "0.30719982161363624\n"
     ]
    }
   ],
   "source": [
    "from random import *\n",
    "for i in range(5):\n",
    "    print(random())"
   ]
  },
  {
   "cell_type": "code",
   "execution_count": 12,
   "metadata": {},
   "outputs": [
    {
     "name": "stdout",
     "output_type": "stream",
     "text": [
      "2 2 7 5 9 "
     ]
    }
   ],
   "source": [
    "from random import *\n",
    "for i in range(5):\n",
    "    print(randrange(10), end=' ')"
   ]
  },
  {
   "cell_type": "code",
   "execution_count": 13,
   "metadata": {},
   "outputs": [
    {
     "name": "stdout",
     "output_type": "stream",
     "text": [
      "5.651193015166288\n",
      "8.434262077835871\n",
      "7.28434531327326\n",
      "9.38247136064566\n",
      "7.009238604960581\n"
     ]
    }
   ],
   "source": [
    "#uniform\n",
    "for i in range(5):\n",
    "    print(uniform(5,10))"
   ]
  },
  {
   "cell_type": "code",
   "execution_count": 14,
   "metadata": {},
   "outputs": [
    {
     "name": "stdout",
     "output_type": "stream",
     "text": [
      "DD DD AA CC BB "
     ]
    }
   ],
   "source": [
    "from random import *\n",
    "list=[\"AA\",\"BB\",\"CC\",\"DD\",\"EE\"]\n",
    "for i in range(5):\n",
    "    print(choice(list), end=' ')"
   ]
  },
  {
   "cell_type": "code",
   "execution_count": 17,
   "metadata": {},
   "outputs": [
    {
     "name": "stdout",
     "output_type": "stream",
     "text": [
      "Original list :  ['A', 'B', 'C', 'D', 'E']\n",
      "\n",
      "After shuffle :  ['D', 'A', 'E', 'B', 'C']\n"
     ]
    }
   ],
   "source": [
    "#shuffle\n",
    "import random\n",
    "sample_list = ['A', 'B', 'C','D', 'E']\n",
    "print(\"Original list : \", sample_list)\n",
    "\n",
    "random.shuffle(sample_list)\n",
    "print(\"\\nAfter shuffle : \", sample_list)"
   ]
  },
  {
   "cell_type": "code",
   "execution_count": 2,
   "metadata": {},
   "outputs": [
    {
     "name": "stdout",
     "output_type": "stream",
     "text": [
      "4387490304\n",
      "4387490304\n",
      "[1, 55, 66, 4]\n",
      "[1, 55, 66, 4]\n"
     ]
    }
   ],
   "source": [
    " ls1=[1, 2, 3, 4]\n",
    "ls2=ls1\n",
    "print(id(ls1))\n",
    "print(id(ls2))\n",
    "ls1[1]=55\n",
    "ls2[2]=66\n",
    "print(ls1)\n",
    "print(ls2)"
   ]
  },
  {
   "cell_type": "code",
   "execution_count": 3,
   "metadata": {},
   "outputs": [
    {
     "name": "stdout",
     "output_type": "stream",
     "text": [
      "ls1  [1, 55, 3, 4]\n",
      "ls2  [1, 2, 66, 4]\n"
     ]
    }
   ],
   "source": [
    "#copying list by using list() method\n",
    "ls1=[1, 2, 3, 4]\n",
    "ls2=list(ls1)\n",
    "ls1[1]=55\n",
    "ls2[2]=66\n",
    "print(\"ls1 \", ls1)\n",
    "print(\"ls2 \", ls2)"
   ]
  },
  {
   "cell_type": "code",
   "execution_count": 4,
   "metadata": {},
   "outputs": [
    {
     "name": "stdout",
     "output_type": "stream",
     "text": [
      "ls1  [1, 55, 3, 4]\n",
      "ls2  [1, 2, 66, 4]\n"
     ]
    }
   ],
   "source": [
    "#by using slice operator\n",
    "ls1=[1, 2, 3, 4]\n",
    "ls2=ls1[:]\n",
    "ls1[1]=55\n",
    "ls2[2]=66\n",
    "print(\"ls1 \", ls1)\n",
    "print(\"ls2 \", ls2)"
   ]
  },
  {
   "cell_type": "code",
   "execution_count": 5,
   "metadata": {},
   "outputs": [
    {
     "name": "stdout",
     "output_type": "stream",
     "text": [
      "ls1  [1, 55, 3, 4]\n",
      "ls2  [1, 2, 66, 4]\n"
     ]
    }
   ],
   "source": [
    "#by using copy()\n",
    "ls1=[1, 2, 3, 4]\n",
    "ls2=ls1.copy()\n",
    "ls1[1]=55\n",
    "ls2[2]=66\n",
    "print(\"ls1 \", ls1)\n",
    "print(\"ls2 \", ls2)"
   ]
  },
  {
   "cell_type": "code",
   "execution_count": 6,
   "metadata": {},
   "outputs": [
    {
     "name": "stdout",
     "output_type": "stream",
     "text": [
      "[1, 4, 9, 16, 25, 36, 49, 64, 81, 100]\n"
     ]
    }
   ],
   "source": [
    "squares = []\n",
    "for value in range(1,11):\n",
    "    squares.append(value**2)\n",
    "print(squares)"
   ]
  },
  {
   "cell_type": "code",
   "execution_count": 7,
   "metadata": {},
   "outputs": [
    {
     "name": "stdout",
     "output_type": "stream",
     "text": [
      "[2, 4, 8, 16, 32]\n"
     ]
    }
   ],
   "source": [
    "#list comprehension to print powers of 2 from 1 to 5\n",
    "v=[2**x for x in range(1,6)]\n",
    "print(v)"
   ]
  },
  {
   "cell_type": "code",
   "execution_count": 8,
   "metadata": {},
   "outputs": [
    {
     "name": "stdout",
     "output_type": "stream",
     "text": [
      "[0, 2, 4, 6, 8, 10, 12, 14, 16, 18, 20]\n"
     ]
    }
   ],
   "source": [
    "#list comprehension to print even numbers from 0 to 20\n",
    "m=[x for x in range(21) if x%2==0]\n",
    "print(m)"
   ]
  },
  {
   "cell_type": "code",
   "execution_count": 9,
   "metadata": {},
   "outputs": [
    {
     "name": "stdout",
     "output_type": "stream",
     "text": [
      "['M', 'N', 'C', 'D']\n"
     ]
    }
   ],
   "source": [
    "#list comprehension: to print 1st character of each word\n",
    "words=[\"Mumbai\",\"Nagpur\",\"Chennai\",\"Delhi\"]\n",
    "l=[w[0] for w in words]\n",
    "print(l)"
   ]
  },
  {
   "cell_type": "code",
   "execution_count": 10,
   "metadata": {},
   "outputs": [
    {
     "name": "stdout",
     "output_type": "stream",
     "text": [
      "[10, 20]\n"
     ]
    }
   ],
   "source": [
    "#list comprehension: to print unique elements of list1 which are not present in list2\n",
    "num1=[10,20,30,40]\n",
    "num2=[30,40,50,60]\n",
    "num3=[ i for i in num1 if i not in num2]\n",
    "print(num3)"
   ]
  },
  {
   "cell_type": "code",
   "execution_count": 11,
   "metadata": {},
   "outputs": [
    {
     "data": {
      "text/plain": [
       "[(1, 3), (1, 4), (2, 3), (2, 1), (2, 4), (3, 1), (3, 4)]"
      ]
     },
     "execution_count": 11,
     "metadata": {},
     "output_type": "execute_result"
    }
   ],
   "source": [
    "#list comprehension: combines the element of two lists if they are not equal\n",
    "[(x,y) for x in [1,2,3] for y in [3,1,4] if x!= y]"
   ]
  },
  {
   "cell_type": "code",
   "execution_count": 12,
   "metadata": {},
   "outputs": [
    {
     "name": "stdout",
     "output_type": "stream",
     "text": [
      "[(1, 3), (1, 4), (2, 3), (2, 1), (2, 4), (3, 1), (3, 4)]\n"
     ]
    }
   ],
   "source": [
    "combs = []\n",
    "for x in [1,2,3]:\n",
    "    for y in [3,1,4]:\n",
    "        if x != y:\n",
    "            combs.append((x,y))\n",
    "\n",
    "print(combs)"
   ]
  },
  {
   "cell_type": "code",
   "execution_count": 13,
   "metadata": {},
   "outputs": [
    {
     "name": "stdout",
     "output_type": "stream",
     "text": [
      "(10,)\n",
      "<class 'tuple'>\n"
     ]
    }
   ],
   "source": [
    "t2=(10,)\n",
    "print(t2)\n",
    "print(type(t2))"
   ]
  },
  {
   "cell_type": "code",
   "execution_count": 14,
   "metadata": {},
   "outputs": [
    {
     "name": "stdout",
     "output_type": "stream",
     "text": [
      "(10,)\n",
      "<class 'tuple'>\n"
     ]
    }
   ],
   "source": [
    "t4=10,\n",
    "print(t4)\n",
    "print(type(t4))"
   ]
  },
  {
   "cell_type": "code",
   "execution_count": 15,
   "metadata": {},
   "outputs": [
    {
     "name": "stdout",
     "output_type": "stream",
     "text": [
      "10\n",
      "<class 'int'>\n"
     ]
    }
   ],
   "source": [
    "t3=(10)\n",
    "print(t3)\n",
    "print(type(t3))"
   ]
  },
  {
   "cell_type": "code",
   "execution_count": 16,
   "metadata": {},
   "outputs": [
    {
     "data": {
      "text/plain": [
       "0"
      ]
     },
     "execution_count": 16,
     "metadata": {},
     "output_type": "execute_result"
    }
   ],
   "source": [
    "t=(10,20,30)\n",
    "t.count(40)"
   ]
  },
  {
   "cell_type": "code",
   "execution_count": 17,
   "metadata": {},
   "outputs": [
    {
     "name": "stdout",
     "output_type": "stream",
     "text": [
      "[10, 20, 30, 40] <class 'list'>\n",
      "(40, 10, 30, 20) <class 'tuple'>\n"
     ]
    }
   ],
   "source": [
    "t=(40,10,30,20)\n",
    "t1=sorted(t)\n",
    "print(t1, type(t1))#output: [10, 20, 30, 40]\n",
    "print(t, type(t))#output (40,10,30,20)"
   ]
  },
  {
   "cell_type": "code",
   "execution_count": 2,
   "metadata": {},
   "outputs": [
    {
     "name": "stdout",
     "output_type": "stream",
     "text": [
      "[1, 2, 9, 5]\n"
     ]
    }
   ],
   "source": [
    "#program to print duplicates from a list of integers\n",
    "list = [1, 2, 9, 2, 3, 4, 5, 1, 2, 5, 6, 7, 8, 9]\n",
    "dup = []\n",
    "for a in list:\n",
    "    n = list.count(a)\n",
    "    if n > 1:\n",
    "        if dup.count(a) == 0:\n",
    "            dup.append(a)\n",
    "\n",
    "print(dup)"
   ]
  },
  {
   "cell_type": "code",
   "execution_count": 4,
   "metadata": {},
   "outputs": [
    {
     "name": "stdout",
     "output_type": "stream",
     "text": [
      "((1, 2), (3, 4))\n",
      "(1, 2, 3, 4)\n"
     ]
    }
   ],
   "source": [
    "# nested tuple\n",
    "tup1 = (1, 2)\n",
    "tup2 = (3, 4)\n",
    "tup3 = (tup1, )+(tup2, )\n",
    "print(tup3)\n",
    "\n",
    "tup4=tup1+tup2\n",
    "print(tup4)"
   ]
  },
  {
   "cell_type": "code",
   "execution_count": 5,
   "metadata": {},
   "outputs": [
    {
     "name": "stdout",
     "output_type": "stream",
     "text": [
      "((1, 2), 3, 4)\n",
      "3\n",
      "((1, 2), [3, 4])\n",
      "2\n"
     ]
    }
   ],
   "source": [
    "tup3=((1,2),)+((3,4))\n",
    "print(tup3)\n",
    "print(len(tup3))\n",
    "\n",
    "tup3=((1,2),)+([3,4],)\n",
    "print(tup3)\n",
    "print(len(tup3))"
   ]
  },
  {
   "cell_type": "code",
   "execution_count": 8,
   "metadata": {},
   "outputs": [
    {
     "name": "stdout",
     "output_type": "stream",
     "text": [
      "((1, 2), (3, 4))\n",
      "2\n",
      "1\n",
      "1\n",
      "1\n",
      "0\n"
     ]
    }
   ],
   "source": [
    "#operations on nested tuple\n",
    "tup3=((1,2),)+((3,4),)\n",
    "print(tup3)\n",
    "print(tup3[0][1])\n",
    "print(tup3[1].index(4))\n",
    "#print(tup3.index(3)) #ValueError\n",
    "print(tup3.index((3,4)))\n",
    "print(tup3[0].count(2))\n",
    "print(tup3.count(2))"
   ]
  },
  {
   "cell_type": "code",
   "execution_count": 10,
   "metadata": {},
   "outputs": [
    {
     "name": "stdout",
     "output_type": "stream",
     "text": [
      "{'h', 'o', 'e', 'l'}\n"
     ]
    }
   ],
   "source": [
    "s1=set(\"hello\")\n",
    "print(s1)"
   ]
  },
  {
   "cell_type": "code",
   "execution_count": 11,
   "metadata": {},
   "outputs": [
    {
     "name": "stdout",
     "output_type": "stream",
     "text": [
      "{}\n",
      "<class 'dict'>\n"
     ]
    }
   ],
   "source": [
    "s={}\n",
    "print(s)\n",
    "print(type(s))"
   ]
  },
  {
   "cell_type": "code",
   "execution_count": 12,
   "metadata": {},
   "outputs": [
    {
     "name": "stdout",
     "output_type": "stream",
     "text": [
      "set()\n",
      "<class 'set'>\n"
     ]
    }
   ],
   "source": [
    "s=set()\n",
    "print(s)\n",
    "print(type(s))"
   ]
  },
  {
   "cell_type": "code",
   "execution_count": 13,
   "metadata": {},
   "outputs": [
    {
     "name": "stdout",
     "output_type": "stream",
     "text": [
      "{40, 10, 20, 30}\n",
      "<class 'set'>\n"
     ]
    }
   ],
   "source": [
    "#creation of set\n",
    "s={10,20,30,40}\n",
    "print(s)\n",
    "print(type(s))"
   ]
  },
  {
   "cell_type": "code",
   "execution_count": 14,
   "metadata": {},
   "outputs": [
    {
     "name": "stdout",
     "output_type": "stream",
     "text": [
      "{40, 10, 20, 30}\n"
     ]
    }
   ],
   "source": [
    "#creation of set\n",
    "l = [10,20,30,40,10,20,10]\n",
    "s=set(l)\n",
    "print(s) # {40, 10, 20, 30}"
   ]
  },
  {
   "cell_type": "code",
   "execution_count": 15,
   "metadata": {},
   "outputs": [
    {
     "name": "stdout",
     "output_type": "stream",
     "text": [
      "{0, 1, 2, 3, 4}\n"
     ]
    }
   ],
   "source": [
    "s=set(range(5))\n",
    "print(s) #{0, 1, 2, 3, 4}"
   ]
  },
  {
   "cell_type": "code",
   "execution_count": 16,
   "metadata": {},
   "outputs": [
    {
     "name": "stdout",
     "output_type": "stream",
     "text": [
      "{40, 10, 20, 30}\n"
     ]
    }
   ],
   "source": [
    "#add elements to the set\n",
    "s={10,20,30}\n",
    "s.add(40)\n",
    "print(s)\n"
   ]
  },
  {
   "cell_type": "code",
   "execution_count": 22,
   "metadata": {},
   "outputs": [
    {
     "name": "stdout",
     "output_type": "stream",
     "text": [
      "{0, 1, 2, 3, 4, 40, 10, 50, 20, 60, 30}\n"
     ]
    }
   ],
   "source": [
    "#update elememts in the set\n",
    "s={10,20,30}\n",
    "l=[40,50,60,10]\n",
    "s.update(l,range(5))\n",
    "print(s#update elememts in the set\n",
    "s={10,20,30}\n",
    "l=[40,50,60,10]\n",
    "s.update(l,range(5))\n",
    "print(s))"
   ]
  },
  {
   "cell_type": "code",
   "execution_count": 23,
   "metadata": {},
   "outputs": [
    {
     "name": "stdout",
     "output_type": "stream",
     "text": [
      "{40, 10, 20}\n"
     ]
    }
   ],
   "source": [
    "#remove x\n",
    "s={40,10,30,20}\n",
    "s.remove(30)\n",
    "print(s) # (40, 10, 20)\n",
    "#s.remove(50) #==>KeyError: 50"
   ]
  },
  {
   "cell_type": "code",
   "execution_count": 24,
   "metadata": {},
   "outputs": [
    {
     "name": "stdout",
     "output_type": "stream",
     "text": [
      "{20, 30}\n",
      "{20, 30}\n"
     ]
    }
   ],
   "source": [
    "#discard(x)\n",
    "s={10,20,30}\n",
    "s.discard(10)\n",
    "print(s)\n",
    "s.discard(50)\n",
    "print(s)"
   ]
  },
  {
   "cell_type": "code",
   "execution_count": 25,
   "metadata": {},
   "outputs": [
    {
     "name": "stdout",
     "output_type": "stream",
     "text": [
      "{10, 20, 30}\n",
      "set()\n"
     ]
    }
   ],
   "source": [
    "#to remove all elements to the set\n",
    "#clear()\n",
    "s={10,20,30}\n",
    "print(s)\n",
    "s.clear()\n",
    "print(s)"
   ]
  },
  {
   "cell_type": "code",
   "execution_count": 26,
   "metadata": {},
   "outputs": [
    {
     "name": "stdout",
     "output_type": "stream",
     "text": [
      "{40, 10, 50, 20, 60, 30}\n",
      "{40, 10, 50, 20, 60, 30}\n"
     ]
    }
   ],
   "source": [
    "#union\n",
    "x={10,20,30,40}\n",
    "y={30,40,50,60}\n",
    "print(x.union(y))\n",
    "print(x|y)"
   ]
  },
  {
   "cell_type": "code",
   "execution_count": 27,
   "metadata": {},
   "outputs": [
    {
     "name": "stdout",
     "output_type": "stream",
     "text": [
      "{40, 30}\n",
      "{40, 30}\n"
     ]
    }
   ],
   "source": [
    "#intersection\n",
    "x={10,20,30,40}\n",
    "y={30,40,50,60}\n",
    "print(x.intersection(y))\n",
    "print(x&y)"
   ]
  },
  {
   "cell_type": "code",
   "execution_count": 28,
   "metadata": {},
   "outputs": [
    {
     "name": "stdout",
     "output_type": "stream",
     "text": [
      "{10, 20}\n",
      "{10, 20}\n",
      "{50, 60}\n"
     ]
    }
   ],
   "source": [
    "#difference\n",
    "x={10,20,30,40}\n",
    "y={30,40,50,60}\n",
    "print(x.difference(y))\n",
    "print(x-y)\n",
    "print(y-x)"
   ]
  },
  {
   "cell_type": "code",
   "execution_count": 29,
   "metadata": {},
   "outputs": [
    {
     "name": "stdout",
     "output_type": "stream",
     "text": [
      "{10, 50, 20, 60}\n",
      "{10, 50, 20, 60}\n"
     ]
    }
   ],
   "source": [
    "#symmetric difference\n",
    "x={10,20,30,40}\n",
    "y={30,40,50,60}\n",
    "print(x.symmetric_difference(y))\n",
    "print(x^y)"
   ]
  },
  {
   "cell_type": "code",
   "execution_count": 30,
   "metadata": {},
   "outputs": [
    {
     "name": "stdout",
     "output_type": "stream",
     "text": [
      "{0, 1, 4, 9, 16}\n"
     ]
    }
   ],
   "source": [
    "s={x*x for x in range (5)}\n",
    "print(s) #{0, 1, 4, 9, 16}\n"
   ]
  },
  {
   "cell_type": "code",
   "execution_count": 31,
   "metadata": {},
   "outputs": [
    {
     "name": "stdout",
     "output_type": "stream",
     "text": [
      "{16, 256, 64, 4}\n"
     ]
    }
   ],
   "source": [
    "s={2**x for x in range(2,10,2)}\n",
    "print(s) #{16, 256, 64, 4}"
   ]
  },
  {
   "cell_type": "code",
   "execution_count": 34,
   "metadata": {},
   "outputs": [
    {
     "name": "stdout",
     "output_type": "stream",
     "text": [
      "{33, 44, 22, 55}\n"
     ]
    }
   ],
   "source": [
    "# input set from user\n",
    "input_str = input(\"Enter element separated by space: \")\n",
    "input_list = input_str.split() #split the input string into a list\n",
    "input_set = set(map(int, input_list)) #convert list to set of integers\n",
    "print(input_set)"
   ]
  },
  {
   "cell_type": "code",
   "execution_count": 35,
   "metadata": {},
   "outputs": [
    {
     "name": "stdout",
     "output_type": "stream",
     "text": [
      "True\n",
      "True\n",
      "False\n"
     ]
    }
   ],
   "source": [
    "# issuubset() issuperset()\n",
    "st1 = {'item', 'item2', 'item3', 'item4'}\n",
    "st2 = {'item2', 'item3'}\n",
    "print(st2.issubset(st1)) #True\n",
    "print(st1.issuperset(st2)) #True\n",
    "print(st1.issubset(st2)) #Fals# issuubset() issuperset()\n",
    "st1 = {'item', 'item2', 'item3', 'item4'}\n",
    "st2 = {'item2', 'item3'}\n",
    "print(st2.issubset(st1)) #True\n",
    "print(st1.issuperset(st2)) #True\n",
    "print(st1.issubset(st2)) #Falsee"
   ]
  },
  {
   "cell_type": "code",
   "execution_count": 2,
   "metadata": {},
   "outputs": [
    {
     "name": "stdout",
     "output_type": "stream",
     "text": [
      "{1: {'name': 'John', 'age': 27}, 2: {'name': 'Marie', 'age': 22}, 3: {'name': 'Peter', 'age': '29', 'married': 'Yes'}}\n",
      "{1: {'name': 'John', 'age': 27}, 2: {'name': 'Marie', 'age': 22}}\n"
     ]
    }
   ],
   "source": [
    "people = {1: {'name': 'John', 'age': 27},\n",
    "          2: {'name': 'Marie', 'age': 22},\n",
    "          3: {'name': 'Peter', 'age': '29', 'married': 'Yes'}}\n",
    "print(people)\n",
    "del people[3]\n",
    "print(people)"
   ]
  },
  {
   "cell_type": "code",
   "execution_count": 3,
   "metadata": {},
   "outputs": [
    {
     "name": "stdout",
     "output_type": "stream",
     "text": [
      "\n",
      "Person ID: 1\n",
      "Name: John\n",
      "Age: 27\n",
      "\n",
      "Person ID: 2\n",
      "Name: Marie\n",
      "Age: 22\n"
     ]
    }
   ],
   "source": [
    "people = {1: {'Name': 'John', 'Age': '27'},\n",
    "          2: {'Name': 'Marie', 'Age': '22'}}\n",
    "\n",
    "for p_id, p_info in people.items():\n",
    "    print(\"\\nPerson ID:\", p_id)\n",
    "\n",
    "    for key in p_info:\n",
    "        print(key + ':', p_info[key])"
   ]
  },
  {
   "cell_type": "code",
   "execution_count": 4,
   "metadata": {},
   "outputs": [
    {
     "name": "stdout",
     "output_type": "stream",
     "text": [
      "{'milk': 0.7752, 'coffee': 1.9, 'bread': 1.9}\n"
     ]
    }
   ],
   "source": [
    "#item price in dollars\n",
    "old_price = {'milk': 1.02, 'coffee': 2.5, 'bread': 2.5}\n",
    "\n",
    "dollar_to_pound = 0.76\n",
    "new_price = {item: value*dollar_to_pound for (item, value) in old_price.items()}\n",
    "print(new_price)"
   ]
  },
  {
   "cell_type": "code",
   "execution_count": 6,
   "metadata": {},
   "outputs": [
    {
     "name": "stdout",
     "output_type": "stream",
     "text": [
      "eating\n"
     ]
    }
   ],
   "source": [
    "#Ex: Class\n",
    "class Dog:\n",
    "    def eat(self):\n",
    "        print(\"eating\")\n",
    "d=Dog()\n",
    "d.eat()"
   ]
  },
  {
   "cell_type": "code",
   "execution_count": 7,
   "metadata": {},
   "outputs": [
    {
     "name": "stdout",
     "output_type": "stream",
     "text": [
      "eating\n",
      "eating\n"
     ]
    }
   ],
   "source": [
    "#self\n",
    "class Dog:\n",
    "    def eat(self):\n",
    "        print(\"eating\")\n",
    "d=Dog()\n",
    "d.eat()\n",
    "Dog.eat(d)"
   ]
  },
  {
   "cell_type": "code",
   "execution_count": 10,
   "metadata": {},
   "outputs": [
    {
     "data": {
      "text/plain": [
       "<bound method sample.pr of <__main__.sample object at 0x11b5ecbc0>>"
      ]
     },
     "execution_count": 10,
     "metadata": {},
     "output_type": "execute_result"
    }
   ],
   "source": [
    "##Constructor will be called once for each instance\n",
    "class sample:\n",
    "    def _init_(self):\n",
    "        print(\"Initializing\")\n",
    "    def pr(self):\n",
    "        print(\"Sample class\")\n",
    "s1=sample()\n",
    "s1=sample()\n",
    "s1.pr"
   ]
  }
 ],
 "metadata": {
  "kernelspec": {
   "display_name": "Python 3",
   "language": "python",
   "name": "python3"
  },
  "language_info": {
   "codemirror_mode": {
    "name": "ipython",
    "version": 3
   },
   "file_extension": ".py",
   "mimetype": "text/x-python",
   "name": "python",
   "nbconvert_exporter": "python",
   "pygments_lexer": "ipython3",
   "version": "3.12.6"
  }
 },
 "nbformat": 4,
 "nbformat_minor": 2
}
