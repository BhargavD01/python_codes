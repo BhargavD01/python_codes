{
 "cells": [
  {
   "cell_type": "code",
   "execution_count": 1,
   "metadata": {},
   "outputs": [
    {
     "name": "stdout",
     "output_type": "stream",
     "text": [
      "The greatest number is: 6.0\n"
     ]
    }
   ],
   "source": [
    "# Function to find the greatest among three numbers\n",
    "def find_greatest(num1, num2, num3):\n",
    "    if num1 >= num2 and num1 >= num3:\n",
    "        return num1\n",
    "    elif num2 >= num1 and num2 >= num3:\n",
    "        return num2\n",
    "    else:\n",
    "        return num3\n",
    "\n",
    "# Input from user\n",
    "num1 = float(input(\"Enter first number: \"))\n",
    "num2 = float(input(\"Enter second number: \"))\n",
    "num3 = float(input(\"Enter third number: \"))\n",
    "\n",
    "# Finding the greatest number\n",
    "greatest = find_greatest(num1, num2, num3)\n",
    "\n",
    "# Display the result\n",
    "print(\"The greatest number is:\", greatest)"
   ]
  },
  {
   "cell_type": "code",
   "execution_count": 1,
   "metadata": {},
   "outputs": [
    {
     "name": "stdout",
     "output_type": "stream",
     "text": [
      "Addition: 3.0\n",
      "Subtraction: -1.0\n",
      "Multiplication: 2.0\n",
      "Division: 0.5\n",
      "Modulus: 1.0\n",
      "Exponentiation: 1.0\n",
      "Floor Division: 0.0\n"
     ]
    }
   ],
   "source": [
    "# Input two numbers from the user\n",
    "num1 = float(input(\"Enter the first number: \"))\n",
    "num2 = float(input(\"Enter the second number: \"))\n",
    "\n",
    "# Arithmetic operations\n",
    "addition = num1 + num2\n",
    "subtraction = num1 - num2\n",
    "multiplication = num1 * num2\n",
    "division = num1 / num2  # Division\n",
    "modulus = num1 % num2   # Remainder\n",
    "exponentiation = num1 ** num2  # Power\n",
    "floor_division = num1 // num2  # Floor division\n",
    "\n",
    "# Displaying results\n",
    "print(\"Addition:\", addition)\n",
    "print(\"Subtraction:\", subtraction)\n",
    "print(\"Multiplication:\", multiplication)\n",
    "print(\"Division:\", division)\n",
    "print(\"Modulus:\", modulus)\n",
    "print(\"Exponentiation:\", exponentiation)\n",
    "print(\"Floor Division:\", floor_division)"
   ]
  },
  {
   "cell_type": "code",
   "execution_count": 3,
   "metadata": {},
   "outputs": [
    {
     "name": "stdout",
     "output_type": "stream",
     "text": [
      "The sum of numbers from 5 to 15 is: 110\n"
     ]
    }
   ],
   "source": [
    "# Initialize the sum variable\n",
    "total_sum = 0\n",
    "\n",
    "# Loop through numbers from 5 to 15\n",
    "for num in range(5, 16):\n",
    "    total_sum += num\n",
    "\n",
    "# Display the result\n",
    "print(\"The sum of numbers from 5 to 15 is:\", total_sum)"
   ]
  },
  {
   "cell_type": "code",
   "execution_count": 5,
   "metadata": {},
   "outputs": [
    {
     "name": "stdout",
     "output_type": "stream",
     "text": [
      "The factorial of 5 is: 120\n"
     ]
    }
   ],
   "source": [
    "# Function to calculate factorial\n",
    "def factorial(n):\n",
    "    result = 1\n",
    "    for i in range(1, n + 1):\n",
    "        result *= i\n",
    "    return result\n",
    "\n",
    "# Input from the user\n",
    "num = int(input(\"Enter a number: \"))\n",
    "\n",
    "# Checking if the number is non-negative\n",
    "if num < 0:\n",
    "    print(\"Factorial is not defined for negative numbers.\")\n",
    "elif num == 0:\n",
    "    print(\"The factorial of 0 is 1.\")\n",
    "else:\n",
    "    # Calculate and display factorial\n",
    "    print(f\"The factorial of {num} is: {factorial(num)}\")"
   ]
  },
  {
   "cell_type": "code",
   "execution_count": 6,
   "metadata": {},
   "outputs": [
    {
     "name": "stdout",
     "output_type": "stream",
     "text": [
      "* \n",
      "* * \n",
      "* * * \n",
      "* * * * \n",
      "* * * * * \n"
     ]
    }
   ],
   "source": [
    "'''\n",
    "*\n",
    "**\n",
    "***\n",
    "'''\n",
    "rows = int(input(\"Enter number of rows\"))\n",
    "for i in range (1,rows+1):\n",
    "    for j in range(1,i+1):\n",
    "        print(\"*\",end=\" \")\n",
    "    print()"
   ]
  },
  {
   "cell_type": "code",
   "execution_count": 7,
   "metadata": {},
   "outputs": [
    {
     "name": "stdout",
     "output_type": "stream",
     "text": [
      "Sum of the array: 15\n",
      "Average of the array: 3.0\n"
     ]
    }
   ],
   "source": [
    "# Define the array with a character and a list of numbers\n",
    "arr = ('i', [1, 2, 3, 4, 5])\n",
    "\n",
    "# Extract the list of numbers from the tuple\n",
    "numbers = arr[1]\n",
    "\n",
    "# Calculate the sum of the numbers\n",
    "total_sum = sum(numbers)\n",
    "\n",
    "# Calculate the average of the numbers\n",
    "average = total_sum / len(numbers)\n",
    "\n",
    "# Display the results\n",
    "print(\"Sum of the array:\", total_sum)\n",
    "print(\"Average of the array:\", average)"
   ]
  },
  {
   "cell_type": "code",
   "execution_count": 8,
   "metadata": {},
   "outputs": [
    {
     "name": "stdout",
     "output_type": "stream",
     "text": [
      "13 is a prime number.\n"
     ]
    }
   ],
   "source": [
    "def is_prime(number):\n",
    "    # Check if number is less than 2 (not prime)\n",
    "    if number < 2:\n",
    "        return False\n",
    "    # Check for factors from 2 up to the square root of the number\n",
    "    for i in range(2, int(number ** 0.5) + 1):\n",
    "        if number % i == 0:\n",
    "            return False\n",
    "    # If no factors were found, it is prime\n",
    "    return True\n",
    "\n",
    "# Input from the user\n",
    "num = int(input(\"Enter a number to check if it is prime: \"))\n",
    "\n",
    "# Check if the number is prime and display the result\n",
    "if is_prime(num):\n",
    "    print(f\"{num} is a prime number.\")\n",
    "else:\n",
    "    print(f\"{num} is not a prime number.\")"
   ]
  },
  {
   "cell_type": "code",
   "execution_count": 9,
   "metadata": {},
   "outputs": [
    {
     "name": "stdout",
     "output_type": "stream",
     "text": [
      "Fibonacci series up to 10 terms:\n",
      "0 1 1 2 3 5 8 13 21 34 "
     ]
    }
   ],
   "source": [
    "# Recursive function to find the nth Fibonacci term\n",
    "def fibonacci(n):\n",
    "    if n <= 1:\n",
    "        return n\n",
    "    else:\n",
    "        return fibonacci(n - 1) + fibonacci(n - 2)\n",
    "\n",
    "# Print the Fibonacci series up to 10 terms\n",
    "print(\"Fibonacci series up to 10 terms:\")\n",
    "for i in range(10):\n",
    "    print(fibonacci(i), end=\" \")"
   ]
  },
  {
   "cell_type": "code",
   "execution_count": 10,
   "metadata": {},
   "outputs": [
    {
     "name": "stdout",
     "output_type": "stream",
     "text": [
      "\"1\" is a palindrome.\n"
     ]
    }
   ],
   "source": [
    "# Function to check if a string is a palindrome\n",
    "def is_palindrome(s):\n",
    "    # Remove spaces and convert to lowercase for a case-insensitive comparison\n",
    "    s = s.replace(\" \", \"\").lower()\n",
    "    # Check if the string is equal to its reverse\n",
    "    return s == s[::-1]\n",
    "\n",
    "# Input from the user\n",
    "input_string = input(\"Enter a string to check if it is a palindrome: \")\n",
    "\n",
    "# Check if the string is a palindrome and display the result\n",
    "if is_palindrome(input_string):\n",
    "    print(f'\"{input_string}\" is a palindrome.')\n",
    "else:\n",
    "    print(f'\"{input_string}\" is not a palindrome.')"
   ]
  },
  {
   "cell_type": "code",
   "execution_count": 11,
   "metadata": {},
   "outputs": [
    {
     "name": "stdout",
     "output_type": "stream",
     "text": [
      "Enter numbers separated by spaces:\n",
      "The sum of the numbers is: 2.0\n"
     ]
    }
   ],
   "source": [
    "# Function to calculate the sum of variable number of arguments\n",
    "def calculate_sum(*args):\n",
    "    return sum(args)\n",
    "\n",
    "# Example usage\n",
    "# Input from the user for demonstration\n",
    "print(\"Enter numbers separated by spaces:\")\n",
    "numbers = map(float, input().split())  # Split input into list of numbers\n",
    "\n",
    "# Calculate the sum of the numbers\n",
    "total_sum = calculate_sum(*numbers)\n",
    "\n",
    "# Display the result\n",
    "print(\"The sum of the numbers is:\", total_sum)"
   ]
  },
  {
   "cell_type": "code",
   "execution_count": 12,
   "metadata": {},
   "outputs": [
    {
     "name": "stdout",
     "output_type": "stream",
     "text": [
      "Original list: [1, 2, 3, 2, 4, 3, 5, 1, 6, 4]\n",
      "List after removing duplicates: [1, 2, 3, 4, 5, 6]\n"
     ]
    }
   ],
   "source": [
    "# Function to remove duplicates from a list\n",
    "def remove_duplicates(input_list):\n",
    "    seen = set()          # Create a set to keep track of seen elements\n",
    "    output_list = []      # Create a list to store unique elements\n",
    "\n",
    "    for item in input_list:\n",
    "        if item not in seen:\n",
    "            seen.add(item)  # Add the item to the set\n",
    "            output_list.append(item)  # Append to the output list\n",
    "\n",
    "    return output_list\n",
    "\n",
    "# Example usage\n",
    "input_list = [1, 2, 3, 2, 4, 3, 5, 1, 6, 4]\n",
    "print(\"Original list:\", input_list)\n",
    "\n",
    "# Remove duplicates\n",
    "unique_list = remove_duplicates(input_list)\n",
    "\n",
    "# Display the result\n",
    "print(\"List after removing duplicates:\", unique_list)"
   ]
  },
  {
   "cell_type": "code",
   "execution_count": 13,
   "metadata": {},
   "outputs": [
    {
     "name": "stdout",
     "output_type": "stream",
     "text": [
      "Squares of numbers from 1 to 10: [1, 4, 9, 16, 25, 36, 49, 64, 81, 100]\n"
     ]
    }
   ],
   "source": [
    "# Calculate the square of numbers from 1 to 10 using list comprehension\n",
    "squares = [x ** 2 for x in range(1, 11)]\n",
    "\n",
    "# Display the result\n",
    "print(\"Squares of numbers from 1 to 10:\", squares)"
   ]
  },
  {
   "cell_type": "code",
   "execution_count": 14,
   "metadata": {},
   "outputs": [
    {
     "name": "stdout",
     "output_type": "stream",
     "text": [
      "Original: (1, 2, 3, 4) (3, 5, 2, 1) (2, 2, 3, 1)\n",
      "Element-wise sum of the said tuples: (6, 9, 8, 6)\n"
     ]
    }
   ],
   "source": [
    "# Function to compute element-wise sum of given tuples\n",
    "def elementwise_sum(*tuples):\n",
    "    # Use zip to pair elements from each tuple and sum them\n",
    "    return tuple(sum(values) for values in zip(*tuples))\n",
    "\n",
    "# Original tuples\n",
    "tuple1 = (1, 2, 3, 4)\n",
    "tuple2 = (3, 5, 2, 1)\n",
    "tuple3 = (2, 2, 3, 1)\n",
    "\n",
    "# Compute the element-wise sum\n",
    "result = elementwise_sum(tuple1, tuple2, tuple3)\n",
    "\n",
    "# Display the result\n",
    "print(\"Original:\", tuple1, tuple2, tuple3)\n",
    "print(\"Element-wise sum of the said tuples:\", result)"
   ]
  },
  {
   "cell_type": "code",
   "execution_count": 15,
   "metadata": {},
   "outputs": [
    {
     "name": "stdout",
     "output_type": "stream",
     "text": [
      "Set A: {1, 2, 3, 4, 5}\n",
      "Set B: {4, 5, 6, 7, 8}\n",
      "Unique items from both sets: {1, 2, 3, 6, 7, 8}\n"
     ]
    }
   ],
   "source": [
    "# Function to get unique items from two sets\n",
    "def unique_items(set1, set2):\n",
    "    return set1.symmetric_difference(set2)\n",
    "\n",
    "# Example sets\n",
    "set_a = {1, 2, 3, 4, 5}\n",
    "set_b = {4, 5, 6, 7, 8}\n",
    "\n",
    "# Get unique items\n",
    "unique_set = unique_items(set_a, set_b)\n",
    "\n",
    "# Display the result\n",
    "print(\"Set A:\", set_a)\n",
    "print(\"Set B:\", set_b)\n",
    "print(\"Unique items from both sets:\", unique_set)"
   ]
  },
  {
   "cell_type": "code",
   "execution_count": 16,
   "metadata": {},
   "outputs": [
    {
     "name": "stdout",
     "output_type": "stream",
     "text": [
      "Original Dictionary: {'jack': 38, 'michael': 48, 'guido': 57, 'john': 33}\n",
      "Dictionary with even ages: {'jack': 38, 'michael': 48}\n"
     ]
    }
   ],
   "source": [
    "# Original dictionary\n",
    "original_dict = {'jack': 38, 'michael': 48, 'guido': 57, 'john': 33}\n",
    "\n",
    "# Create a new dictionary using dictionary comprehension for even ages\n",
    "even_age_dict = {name: age for name, age in original_dict.items() if age % 2 == 0}\n",
    "\n",
    "# Display the result\n",
    "print(\"Original Dictionary:\", original_dict)\n",
    "print(\"Dictionary with even ages:\", even_age_dict)"
   ]
  },
  {
   "cell_type": "code",
   "execution_count": 17,
   "metadata": {},
   "outputs": [
    {
     "name": "stdout",
     "output_type": "stream",
     "text": [
      "Original string: Python is very easy\n",
      "String after removing spaces: Pythonisveryeasy\n"
     ]
    }
   ],
   "source": [
    "# Original string\n",
    "original_string = \"Python is very easy\"\n",
    "\n",
    "# Remove spaces using the replace method\n",
    "no_spaces_string = original_string.replace(\" \", \"\")\n",
    "\n",
    "# Display the result\n",
    "print(\"Original string:\", original_string)\n",
    "print(\"String after removing spaces:\", no_spaces_string)"
   ]
  },
  {
   "cell_type": "code",
   "execution_count": 18,
   "metadata": {},
   "outputs": [
    {
     "name": "stdout",
     "output_type": "stream",
     "text": [
      "The simple interest is: 368.00\n"
     ]
    }
   ],
   "source": [
    "# Function to calculate simple interest\n",
    "def calculate_simple_interest(principal, rate, time):\n",
    "    return (principal * rate * time) / 100\n",
    "\n",
    "# Input from the user\n",
    "principal_amount = float(input(\"Enter the principal amount: \"))\n",
    "rate_of_interest = float(input(\"Enter the rate of interest (in %): \"))\n",
    "time_period = float(input(\"Enter the time period (in years): \"))\n",
    "\n",
    "# Calculate simple interest\n",
    "simple_interest = calculate_simple_interest(principal_amount, rate_of_interest, time_period)\n",
    "\n",
    "# Display the result using format function\n",
    "print(\"The simple interest is: {:.2f}\".format(simple_interest))"
   ]
  },
  {
   "cell_type": "code",
   "execution_count": 19,
   "metadata": {},
   "outputs": [
    {
     "name": "stdout",
     "output_type": "stream",
     "text": [
      "Area of the circle: 5541.77\n",
      "Perimeter (Circumference) of the circle: 263.89\n"
     ]
    }
   ],
   "source": [
    "import math\n",
    "\n",
    "class Circle:\n",
    "    def __init__(self, radius):\n",
    "        \"\"\"Initialize the radius of the circle.\"\"\"\n",
    "        self.radius = radius\n",
    "\n",
    "    def area(self):\n",
    "        \"\"\"Calculate and return the area of the circle.\"\"\"\n",
    "        return math.pi * (self.radius ** 2)\n",
    "\n",
    "    def perimeter(self):\n",
    "        \"\"\"Calculate and return the perimeter (circumference) of the circle.\"\"\"\n",
    "        return 2 * math.pi * self.radius\n",
    "\n",
    "# Example usage\n",
    "if __name__ == \"__main__\":\n",
    "    # Input from the user\n",
    "    radius_value = float(input(\"Enter the radius of the circle: \"))\n",
    "    \n",
    "    # Create an instance of Circle\n",
    "    circle = Circle(radius_value)\n",
    "    \n",
    "    # Calculate area and perimeter\n",
    "    circle_area = circle.area()\n",
    "    circle_perimeter = circle.perimeter()\n",
    "    \n",
    "    # Display the results\n",
    "    print(\"Area of the circle: {:.2f}\".format(circle_area))\n",
    "    print(\"Perimeter (Circumference) of the circle: {:.2f}\".format(circle_perimeter))"
   ]
  },
  {
   "cell_type": "code",
   "execution_count": 20,
   "metadata": {},
   "outputs": [
    {
     "name": "stdout",
     "output_type": "stream",
     "text": [
      "Name: Alice\n",
      "Age: 20\n",
      "Roll No: 101\n",
      "Stream: Computer Science\n"
     ]
    }
   ],
   "source": [
    "# Define the Person class\n",
    "class Person:\n",
    "    def __init__(self, name, age):\n",
    "        \"\"\"Initialize the name and age of the person.\"\"\"\n",
    "        self.name = name\n",
    "        self.age = age\n",
    "\n",
    "# Define the Student class that inherits from Person\n",
    "class Student(Person):\n",
    "    def __init__(self, name, age, rollno, stream):\n",
    "        \"\"\"Initialize the attributes of the Student class, including those from Person.\"\"\"\n",
    "        super().__init__(name, age)  # Call the constructor of the Person class\n",
    "        self.rollno = rollno          # Initialize roll number\n",
    "        self.stream = stream          # Initialize stream\n",
    "\n",
    "    def display(self):\n",
    "        \"\"\"Display the details of the student.\"\"\"\n",
    "        print(f\"Name: {self.name}\")\n",
    "        print(f\"Age: {self.age}\")\n",
    "        print(f\"Roll No: {self.rollno}\")\n",
    "        print(f\"Stream: {self.stream}\")\n",
    "\n",
    "# Example usage\n",
    "if __name__ == \"__main__\":\n",
    "    # Create an object of the Student class\n",
    "    student = Student(name=\"Alice\", age=20, rollno=\"101\", stream=\"Computer Science\")\n",
    "    \n",
    "    # Call the display method to print student details\n",
    "    student.display()"
   ]
  },
  {
   "cell_type": "code",
   "execution_count": 22,
   "metadata": {},
   "outputs": [
    {
     "name": "stdout",
     "output_type": "stream",
     "text": [
      "Error: The file '' was not found.\n"
     ]
    }
   ],
   "source": [
    "def count_words_in_file(file_name):\n",
    "    \"\"\"Counts the number of words in a given text file.\"\"\"\n",
    "    try:\n",
    "        with open(file_name, 'r') as file:\n",
    "            # Read the content of the file\n",
    "            content = file.read()\n",
    "            # Split the content into words based on whitespace\n",
    "            words = content.split()\n",
    "            # Return the number of words\n",
    "            return len(words)\n",
    "    except FileNotFoundError:\n",
    "        print(f\"Error: The file '{file_name}' was not found.\")\n",
    "        return None\n",
    "    except Exception as e:\n",
    "        print(f\"An error occurred: {e}\")\n",
    "        return None\n",
    "\n",
    "# Main program\n",
    "if __name__ == \"__main__\":\n",
    "    # Prompt the user for the file name\n",
    "    file_name = input(\"Enter the name of the text file (with .txt extension): \")\n",
    "    \n",
    "    # Count the words in the specified file\n",
    "    word_count = count_words_in_file(file_name)\n",
    "    \n",
    "    # Display the result if no error occurred\n",
    "    if word_count is not None:\n",
    "        print(f\"The number of words in the file '{file_name}' is: {word_count}\")"
   ]
  },
  {
   "cell_type": "code",
   "execution_count": 23,
   "metadata": {},
   "outputs": [
    {
     "name": "stdout",
     "output_type": "stream",
     "text": [
      "The result of 23.0 divided by 3.0 is: 7.666666666666667\n"
     ]
    }
   ],
   "source": [
    "def divide_numbers(numerator, denominator):\n",
    "    \"\"\"Divide two numbers and handle division by zero gracefully.\"\"\"\n",
    "    try:\n",
    "        result = numerator / denominator\n",
    "    except ZeroDivisionError:\n",
    "        print(\"Error: Division by zero is not allowed.\")\n",
    "        return None\n",
    "    else:\n",
    "        return result\n",
    "\n",
    "# Main program\n",
    "if __name__ == \"__main__\":\n",
    "    # Input from the user\n",
    "    try:\n",
    "        numerator = float(input(\"Enter the numerator: \"))\n",
    "        denominator = float(input(\"Enter the denominator: \"))\n",
    "        \n",
    "        # Call the divide function\n",
    "        division_result = divide_numbers(numerator, denominator)\n",
    "        \n",
    "        # Display the result if division was successful\n",
    "        if division_result is not None:\n",
    "            print(f\"The result of {numerator} divided by {denominator} is: {division_result}\")\n",
    "    except ValueError:\n",
    "        print(\"Error: Please enter valid numbers.\")"
   ]
  },
  {
   "cell_type": "code",
   "execution_count": 24,
   "metadata": {},
   "outputs": [
    {
     "name": "stdout",
     "output_type": "stream",
     "text": [
      "Original numbers: [1, 2, 3, 4, 5]\n",
      "Squared numbers: [1, 4, 9, 16, 25]\n"
     ]
    }
   ],
   "source": [
    "# List of numbers\n",
    "numbers = [1, 2, 3, 4, 5]\n",
    "\n",
    "# Using map() with a lambda function to square each number\n",
    "squared_numbers = list(map(lambda x: x ** 2, numbers))\n",
    "\n",
    "# Display the result\n",
    "print(\"Original numbers:\", numbers)\n",
    "print(\"Squared numbers:\", squared_numbers)"
   ]
  },
  {
   "cell_type": "code",
   "execution_count": 25,
   "metadata": {},
   "outputs": [
    {
     "name": "stdout",
     "output_type": "stream",
     "text": [
      "Original numbers: [1, 2, 3, 4, 5, 6, 7, 8, 9, 10]\n",
      "Even numbers: [2, 4, 6, 8, 10]\n"
     ]
    }
   ],
   "source": [
    "# List of numbers\n",
    "numbers = [1, 2, 3, 4, 5, 6, 7, 8, 9, 10]\n",
    "\n",
    "# Using filter() with a lambda function to get even numbers\n",
    "even_numbers = list(filter(lambda x: x % 2 == 0, numbers))\n",
    "\n",
    "# Display the result\n",
    "print(\"Original numbers:\", numbers)\n",
    "print(\"Even numbers:\", even_numbers)"
   ]
  },
  {
   "cell_type": "code",
   "execution_count": 26,
   "metadata": {},
   "outputs": [
    {
     "name": "stdout",
     "output_type": "stream",
     "text": [
      "The area of a circle with radius 5 is: 78.53975\n",
      "10 is an even number.\n",
      "7 is not an even number.\n"
     ]
    }
   ],
   "source": [
    "class MathOperations:\n",
    "    # Class attribute\n",
    "    pi = 3.14159\n",
    "\n",
    "    @classmethod\n",
    "    def area_of_circle(cls, radius):\n",
    "        \"\"\"Calculate the area of a circle using the class attribute pi.\"\"\"\n",
    "        return cls.pi * (radius ** 2)\n",
    "\n",
    "    @staticmethod\n",
    "    def is_even(number):\n",
    "        \"\"\"Check if a number is even.\"\"\"\n",
    "        return number % 2 == 0\n",
    "\n",
    "# Example usage\n",
    "if __name__ == \"__main__\":\n",
    "    # Using the class method\n",
    "    radius = 5\n",
    "    area = MathOperations.area_of_circle(radius)\n",
    "    print(f\"The area of a circle with radius {radius} is: {area}\")\n",
    "\n",
    "    # Using the static method\n",
    "    number = 10\n",
    "    if MathOperations.is_even(number):\n",
    "        print(f\"{number} is an even number.\")\n",
    "    else:\n",
    "        print(f\"{number} is not an even number.\")\n",
    "\n",
    "    number = 7\n",
    "    if MathOperations.is_even(number):\n",
    "        print(f\"{number} is an even number.\")\n",
    "    else:\n",
    "        print(f\"{number} is not an even number.\")"
   ]
  },
  {
   "cell_type": "code",
   "execution_count": 1,
   "metadata": {},
   "outputs": [],
   "source": [
    "import tkinter as tk\n",
    "from tkinter import messagebox\n",
    "\n",
    "def add_numbers():\n",
    "    \"\"\"Function to add two numbers from the entries and display the result.\"\"\"\n",
    "    try:\n",
    "        # Get the numbers from the entries\n",
    "        num1 = float(entry_num1.get())\n",
    "        num2 = float(entry_num2.get())\n",
    "        \n",
    "        # Calculate the sum\n",
    "        result = num1 + num2\n",
    "        \n",
    "        # Show the result in a message box\n",
    "        messagebox.showinfo(\"Result\", f\"The sum is: {result}\")\n",
    "    except ValueError:\n",
    "        # Handle the case where the input is not a valid number\n",
    "        messagebox.showerror(\"Input Error\", \"Please enter valid numbers.\")\n",
    "\n",
    "# Create the main window\n",
    "root = tk.Tk()\n",
    "root.title(\"Addition Calculator\")\n",
    "\n",
    "# Create and place the label and entry for the first number\n",
    "label_num1 = tk.Label(root, text=\"Enter first number:\")\n",
    "label_num1.pack()\n",
    "\n",
    "entry_num1 = tk.Entry(root)\n",
    "entry_num1.pack()\n",
    "\n",
    "# Create and place the label and entry for the second number\n",
    "label_num2 = tk.Label(root, text=\"Enter second number:\")\n",
    "label_num2.pack()\n",
    "\n",
    "entry_num2 = tk.Entry(root)\n",
    "entry_num2.pack()\n",
    "\n",
    "# Create and place the add button\n",
    "add_button = tk.Button(root, text=\"Add\", command=add_numbers)\n",
    "add_button.pack()\n",
    "\n",
    "# Run the application\n",
    "root.mainloop()"
   ]
  }
 ],
 "metadata": {
  "kernelspec": {
   "display_name": "Python 3",
   "language": "python",
   "name": "python3"
  },
  "language_info": {
   "codemirror_mode": {
    "name": "ipython",
    "version": 3
   },
   "file_extension": ".py",
   "mimetype": "text/x-python",
   "name": "python",
   "nbconvert_exporter": "python",
   "pygments_lexer": "ipython3",
   "version": "3.12.6"
  }
 },
 "nbformat": 4,
 "nbformat_minor": 2
}
