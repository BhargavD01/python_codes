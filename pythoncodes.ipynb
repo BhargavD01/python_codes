{
 "cells": [
  {
   "cell_type": "code",
   "execution_count": 5,
   "metadata": {},
   "outputs": [
    {
     "name": "stdout",
     "output_type": "stream",
     "text": [
      "Hello, bd!\n",
      "Hola, bd!\n",
      "Konichiwa, bd!\n",
      "Namaste, bd!\n"
     ]
    }
   ],
   "source": [
    "#greetings in 4 languages\n",
    "name = input(\"Enter name:\")\n",
    "print(f\"Hello, {name}!\")\n",
    "print(f\"Hola, {name}!\")\n",
    "print(f\"Konichiwa, {name}!\")\n",
    "print(f\"Namaste, {name}!\")"
   ]
  },
  {
   "cell_type": "code",
   "execution_count": 10,
   "metadata": {},
   "outputs": [
    {
     "name": "stdout",
     "output_type": "stream",
     "text": [
      "Your reversed string is: vagrahb\n"
     ]
    }
   ],
   "source": [
    "#reverse the string\n",
    "text = input(\"Enter your string:\")\n",
    "\n",
    "reversed_text = text[::-1]\n",
    "\n",
    "print(\"Your reversed string is:\", reversed_text)"
   ]
  },
  {
   "cell_type": "code",
   "execution_count": 13,
   "metadata": {},
   "outputs": [
    {
     "name": "stdout",
     "output_type": "stream",
     "text": [
      "Yes\n"
     ]
    }
   ],
   "source": [
    "#check if number is divisible by 5\n",
    "number = int(input(\"Enter your number:\"))\n",
    "\n",
    "if number % 5 == 0:\n",
    "    print(\"Yes\")\n",
    "else:\n",
    "    print(\"No\")"
   ]
  },
  {
   "cell_type": "code",
   "execution_count": 18,
   "metadata": {},
   "outputs": [
    {
     "name": "stdout",
     "output_type": "stream",
     "text": [
      "Multiples of 8 from 1 to 30:\n",
      "8 16 24 32 40 48 56 64 72 80 88 96 104 112 120 128 136 144 152 160 168 176 184 192 200 208 216 224 232 240 "
     ]
    }
   ],
   "source": [
    "#print multiples of a number from 1 to 30\n",
    "number = int(input(\"Enter your number:\"))\n",
    "\n",
    "print(f\"Multiples of {number} from 1 to 30:\")\n",
    "for i in range(1, 31):\n",
    "    print(number * i, end=\" \")"
   ]
  },
  {
   "cell_type": "code",
   "execution_count": 20,
   "metadata": {},
   "outputs": [
    {
     "name": "stdout",
     "output_type": "stream",
     "text": [
      "* \n",
      "* * \n",
      "* * * \n",
      "* * * * \n",
      "* * * * * \n"
     ]
    }
   ],
   "source": [
    "# make these stars of rows depending on the number of rows given in input\n",
    "rows = int(input(\"enter number of rows\"))\n",
    "for i in range(1,rows + 1):\n",
    "    print('* ' * i)"
   ]
  },
  {
   "cell_type": "code",
   "execution_count": 22,
   "metadata": {},
   "outputs": [
    {
     "name": "stdout",
     "output_type": "stream",
     "text": [
      "14 is not a prime number.\n"
     ]
    }
   ],
   "source": [
    "#check if number is prime or not\n",
    "num = int(input(\"Enter your number: \"))\n",
    "\n",
    "if num > 1:\n",
    "    for i in range(2, num):\n",
    "        if num % i == 0:\n",
    "            print(f\"{num} is not a prime number.\")\n",
    "            break\n",
    "    else:\n",
    "        print(f\"{num} is a prime number.\")\n",
    "else:\n",
    "    print(f\"{num} is not a prime number.\")"
   ]
  }
 ],
 "metadata": {
  "kernelspec": {
   "display_name": "Python 3",
   "language": "python",
   "name": "python3"
  },
  "language_info": {
   "codemirror_mode": {
    "name": "ipython",
    "version": 3
   },
   "file_extension": ".py",
   "mimetype": "text/x-python",
   "name": "python",
   "nbconvert_exporter": "python",
   "pygments_lexer": "ipython3",
   "version": "3.12.6"
  }
 },
 "nbformat": 4,
 "nbformat_minor": 2
}
